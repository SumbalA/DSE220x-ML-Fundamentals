{
 "cells": [
  {
   "cell_type": "markdown",
   "metadata": {},
   "source": [
    "# MNIST Dataset\n",
    "So the MNIST data set has got\n",
    "60,000 images of handwritten digits.\n",
    "Here's a smattering of them.\n",
    "And we can use this training set to learn a __classifier__:\n",
    "a function that takes an image and then outputs\n",
    "what digit it thinks it is.\n",
    "\n",
    "MNIST also has a separate test set of 10,000 images\n",
    "along with their labels, and we can use this test set\n",
    "to assess how good our classifier really is.\n",
    "\n",
    "We'll use the munpy function _load_ to get the saved file. If the file is a [.npy](https://docs.scipy.org/doc/numpy-1.14.0/reference/generated/numpy.load.html) file, then a single array is returned."
   ]
  },
  {
   "cell_type": "code",
   "execution_count": 2,
   "metadata": {
    "collapsed": false
   },
   "outputs": [],
   "source": [
    "import numpy as np\n",
    "\n",
    "train_data = np.load('./MNIST/train_data.npy')"
   ]
  },
  {
   "cell_type": "code",
   "execution_count": 7,
   "metadata": {
    "collapsed": false
   },
   "outputs": [
    {
     "name": "stdout",
     "output_type": "stream",
     "text": [
      "<class 'numpy.ndarray'>\n",
      "7500\n"
     ]
    }
   ],
   "source": [
    "print(type(train_data))\n",
    "print(len(train_data))"
   ]
  },
  {
   "cell_type": "code",
   "execution_count": 8,
   "metadata": {
    "collapsed": true
   },
   "outputs": [],
   "source": [
    "train_labels = np.load('./MNIST/train_labels.npy')\n",
    "test_data = np.load('./MNIST/test_data.npy')\n",
    "test_labels = np.load('./MNIST/test_labels.npy')"
   ]
  },
  {
   "cell_type": "markdown",
   "metadata": {},
   "source": [
    "So what kind of classifiers might we try?\n",
    "Well, the simplest one imaginable perhaps,\n",
    "is __Nearest Neighbor__\n",
    ".\n",
    "What happens in this case is that\n",
    "when we get a new image to classify,\n",
    "say this one over here, we get some new image X.\n",
    "We go through our training set of 60,000 images\n",
    "and we find the one that's closest to X.\n",
    "Then we simply return the label of that image.\n",
    "That's it.\n",
    "\n",
    "Now, there are some details that we have to work out.\n",
    "If we are looking for the one that's closest to X,\n",
    "it means we have some notion of __distance between images__.\n",
    "How are we representing images on the computer anyway?\n",
    "\n",
    "So let's look into that.\n",
    "So first off, we will __represent images as vectors__, okay?\n",
    "Now an MNIST image is 28 pixels by 28.\n",
    "So it's 28 pixels across, 28 pixels high.\n",
    "That means the total number of pixels\n",
    "is 28 and 28 which is 784.\n",
    "And each pixel is grayscale.\n",
    "So it's a value in the range zero to 255\n",
    "where _zero means black and 255 means white_."
   ]
  },
  {
   "cell_type": "code",
   "execution_count": 9,
   "metadata": {
    "collapsed": true
   },
   "outputs": [
    {
     "name": "stdout",
     "output_type": "stream",
     "text": [
      "[   0.    0.    0.    0.    0.    0.    0.    0.    0.    0.    0.    0.\n",
      "    0.    0.    0.    0.    0.    0.    0.    0.    0.    0.    0.    0.\n",
      "    0.    0.    0.    0.    0.    0.    0.    0.    0.    0.    0.    0.\n",
      "    0.    0.    0.    0.    0.    0.    0.    0.    0.    0.    0.    0.\n",
      "    0.    0.    0.    0.    0.    0.    0.    0.    0.    0.    0.    0.\n",
      "    0.    0.    0.    0.    0.    0.    0.    0.    0.    0.    0.    0.\n",
      "    0.    0.    0.    0.    0.    0.    0.    0.    0.    0.    0.    0.\n",
      "    0.    0.    0.    0.    0.    0.    0.    0.    0.    0.    0.    0.\n",
      "    0.    0.    0.    0.    0.    0.    0.    0.    0.    0.    0.    0.\n",
      "    0.    0.    0.    0.    0.    0.    0.    0.    0.    0.    0.    0.\n",
      "    0.    0.    0.    0.    0.    0.    0.    0.    0.    0.    0.    0.\n",
      "    0.    0.    0.    0.    0.    0.    0.    0.    0.    0.    0.    0.\n",
      "    0.    0.    0.    0.    0.    0.    0.    0.    0.    0.    0.    0.\n",
      "    0.    0.    0.    0.    0.    0.    0.    0.    0.    0.    0.    0.\n",
      "    0.    0.    0.    0.    0.    0.    0.    0.    0.    0.    0.   49.\n",
      "  138.  243.  255.  154.    0.    0.    0.    0.    0.    0.    0.    0.\n",
      "    0.    0.    0.    0.    0.    0.    0.    0.    0.    0.    0.    0.\n",
      "    0.    0.    9.  197.  252.  252.  253.  236.  161.   50.    0.    0.\n",
      "    0.    0.    0.    0.    0.    0.    0.    0.    0.    0.    0.    0.\n",
      "    0.    0.    0.    0.    0.    0.  130.  252.  227.  130.  190.  252.\n",
      "  252.  227.   48.    0.    0.    0.    0.    0.    0.    0.    0.    0.\n",
      "    0.    0.    0.    0.    0.    0.    0.    0.    0.  155.  236.  227.\n",
      "   50.    0.    5.   83.  252.  252.  137.    0.    0.    0.    0.    0.\n",
      "    0.    0.    0.    0.    0.    0.    0.    0.    0.    0.    0.    0.\n",
      "   53.  253.  252.  130.    0.    0.    0.   26.  221.  252.  242.  158.\n",
      "    0.    0.    0.    0.    0.    0.    0.    0.    0.    0.    0.    0.\n",
      "    0.    0.    0.    0.  127.  255.  228.   32.    0.    0.    0.    0.\n",
      "  185.  253.  253.  231.    0.    0.    0.    0.    0.    0.    0.    0.\n",
      "    0.    0.    0.    0.    0.    0.    0.    0.  230.  253.  132.    0.\n",
      "    0.    0.    0.    0.  111.  252.  252.  230.    0.    0.    0.    0.\n",
      "    0.    0.    0.    0.    0.    0.    0.    0.    0.    0.    0.    0.\n",
      "  230.  253.   92.    0.    0.    0.    0.    0.  153.  252.  252.  199.\n",
      "    0.    0.    0.    0.    0.    0.    0.    0.    0.    0.    0.    0.\n",
      "    0.    0.    0.    0.  230.  253.   92.    0.    0.    0.    0.   17.\n",
      "  209.  252.  252.   74.    0.    0.    0.    0.    0.    0.    0.    0.\n",
      "    0.    0.    0.    0.    0.    0.    0.    0.  126.  253.  196.    0.\n",
      "    0.    0.    0.   99.  252.  252.  252.    0.    0.    0.    0.    0.\n",
      "    0.    0.    0.    0.    0.    0.    0.    0.    0.    0.    0.    0.\n",
      "    0.  255.  253.  222.   97.   24.   87.  212.  253.  253.  190.    0.\n",
      "    0.    0.    0.    0.    0.    0.    0.    0.    0.    0.    0.    0.\n",
      "    0.    0.    0.    0.    0.  159.  252.  252.  252.  252.  253.  252.\n",
      "  252.  252.  137.    0.    0.    0.    0.    0.    0.    0.    0.    0.\n",
      "    0.    0.    0.    0.    0.    0.    0.    0.    0.    7.  141.  183.\n",
      "  183.  246.  215.  196.  252.  252.  137.    0.    0.    0.    0.    0.\n",
      "    0.    0.    0.    0.    0.    0.    0.    0.    0.    0.    0.    0.\n",
      "    0.    0.    0.    0.    0.   42.   21.   47.  252.  252.  137.    0.\n",
      "    0.    0.    0.    0.    0.    0.    0.    0.    0.    0.    0.    0.\n",
      "    0.    0.    0.    0.    0.    0.    0.    0.    0.    0.    0.   47.\n",
      "  252.  252.  137.    0.    0.    0.    0.    0.    0.    0.    0.    0.\n",
      "    0.    0.    0.    0.    0.    0.    0.    0.    0.    0.    0.    0.\n",
      "    0.    0.    0.   47.  253.  253.  137.    0.    0.    0.    0.    0.\n",
      "    0.    0.    0.    0.    0.    0.    0.    0.    0.    0.    0.    0.\n",
      "    0.    0.    0.    0.    0.    0.    0.   47.  252.  252.  137.    0.\n",
      "    0.    0.    0.    0.    0.    0.    0.    0.    0.    0.    0.    0.\n",
      "    0.    0.    0.    0.    0.    0.    0.    0.    0.    0.    0.   47.\n",
      "  252.  252.  137.    0.    0.    0.    0.    0.    0.    0.    0.    0.\n",
      "    0.    0.    0.    0.    0.    0.    0.    0.    0.    0.    0.    0.\n",
      "    0.    0.    0.   47.  252.  252.  137.    0.    0.    0.    0.    0.\n",
      "    0.    0.    0.    0.    0.    0.    0.    0.    0.    0.    0.    0.\n",
      "    0.    0.    0.    0.    0.    0.    0.    5.  137.  252.   85.    0.\n",
      "    0.    0.    0.    0.    0.    0.    0.    0.    0.    0.    0.    0.\n",
      "    0.    0.    0.    0.    0.    0.    0.    0.    0.    0.    0.    0.\n",
      "    0.    0.    0.    0.    0.    0.    0.    0.    0.    0.    0.    0.\n",
      "    0.    0.    0.    0.    0.    0.    0.    0.    0.    0.    0.    0.\n",
      "    0.    0.    0.    0.    0.    0.    0.    0.    0.    0.    0.    0.\n",
      "    0.    0.    0.    0.]\n",
      "784\n"
     ]
    }
   ],
   "source": [
    "print(train_data[0])\n",
    "print(len(train_data[0]))"
   ]
  },
  {
   "cell_type": "markdown",
   "metadata": {},
   "source": [
    "## Visualizing the data"
   ]
  },
  {
   "cell_type": "code",
   "execution_count": 15,
   "metadata": {
    "collapsed": false
   },
   "outputs": [
    {
     "data": {
      "text/plain": [
       "<matplotlib.image.AxesImage at 0x2421b11e9b0>"
      ]
     },
     "execution_count": 15,
     "metadata": {},
     "output_type": "execute_result"
    },
    {
     "data": {
      "image/png": "[encoded data removed]",
      "text/plain": [
       "<matplotlib.figure.Figure at 0x2421aeb5e48>"
      ]
     },
     "metadata": {},
     "output_type": "display_data"
    }
   ],
   "source": [
    "# Let's visualize it\n",
    "import matplotlib.pyplot as plt\n",
    "%matplotlib inline\n",
    "\n",
    "plt.imshow(train_data[0].reshape(28,28),cmap='gray')"
   ]
  },
  {
   "cell_type": "markdown",
   "metadata": {},
   "source": [
    "Each data point is stored as 784-dimensional vector. To visualize a data point, we first reshape it to a 28x28 image."
   ]
  },
  {
   "cell_type": "code",
   "execution_count": 14,
   "metadata": {
    "collapsed": true
   },
   "outputs": [
    {
     "data": {
      "image/png": "[encoded data removed]",
      "text/plain": [
       "<matplotlib.figure.Figure at 0x2421af15748>"
      ]
     },
     "metadata": {},
     "output_type": "display_data"
    },
    {
     "name": "stdout",
     "output_type": "stream",
     "text": [
      "Label 8\n"
     ]
    },
    {
     "data": {
      "image/png": "[encoded data removed]",
      "text/plain": [
       "<matplotlib.figure.Figure at 0x2421af15400>"
      ]
     },
     "metadata": {},
     "output_type": "display_data"
    },
    {
     "name": "stdout",
     "output_type": "stream",
     "text": [
      "Label 4\n"
     ]
    }
   ],
   "source": [
    "## Define a function that displays a digit given its vector representation\n",
    "def show_digit(x):\n",
    "    plt.axis('off')\n",
    "    plt.imshow(x.reshape((28,28)), cmap=plt.cm.gray)\n",
    "    plt.show()\n",
    "    return\n",
    "\n",
    "## Define a function that takes an index into a particular data set (\"train\" or \"test\") \n",
    "## and displays that image.\n",
    "def vis_image(index, dataset='train'):\n",
    "    if(dataset=='train'):\n",
    "        show_digit(train_data[index,])\n",
    "        label = train_labels[index]\n",
    "    else:\n",
    "        show_digit(test_data[index,])\n",
    "        label = test_labels[index]\n",
    "    print('Label ' + str(label))\n",
    "    return\n",
    "\n",
    "vis_image(100,'train')\n",
    "vis_image(100,'test')"
   ]
  },
  {
   "cell_type": "code",
   "execution_count": 16,
   "metadata": {
    "collapsed": false
   },
   "outputs": [
    {
     "name": "stdout",
     "output_type": "stream",
     "text": [
      "Training dataset dimensions:  (7500, 784)\n",
      "Number of training labels:  7500\n",
      "Testing dataset dimensions:  (1000, 784)\n",
      "Number of testing labels:  1000\n"
     ]
    }
   ],
   "source": [
    "# Print out their dimensions\n",
    "print('Training dataset dimensions: ', np.shape(train_data))\n",
    "print('Number of training labels: ', len(train_labels))\n",
    "print('Testing dataset dimensions: ', np.shape(test_data))\n",
    "print('Number of testing labels: ', len(test_labels))\n"
   ]
  },
  {
   "cell_type": "code",
   "execution_count": 17,
   "metadata": {
    "collapsed": false
   },
   "outputs": [
    {
     "name": "stdout",
     "output_type": "stream",
     "text": [
      "Training set distribution: \n",
      "{0: 750, 1: 750, 2: 750, 3: 750, 4: 750, 5: 750, 6: 750, 7: 750, 8: 750, 9: 750}\n",
      "Test set distribution: \n",
      "{0: 100, 1: 100, 2: 100, 3: 100, 4: 100, 5: 100, 6: 100, 7: 100, 8: 100, 9: 100}\n"
     ]
    }
   ],
   "source": [
    "# Compute the number of examples of each digit\n",
    "train_digits, train_counts = np.unique(train_labels, return_counts=True)\n",
    "print('Training set distribution: ')\n",
    "print(dict(zip(train_digits,train_counts)))\n",
    "\n",
    "test_digits, test_counts = np.unique(test_labels, return_counts=True)\n",
    "print('Test set distribution: ')\n",
    "print(dict(zip(test_digits,test_counts)))"
   ]
  },
  {
   "cell_type": "code",
   "execution_count": null,
   "metadata": {
    "collapsed": true
   },
   "outputs": [],
   "source": []
  },
  {
   "cell_type": "markdown",
   "metadata": {},
   "source": [
    "So we've taken the image and converted it into\n",
    "a 784 dimensional vector.\n",
    "Our data space then, which we're gonna denote by script X\n",
    "is 784 dimensional Euclidean space\n",
    "and we'll often write it like this: R to the 784th.\n",
    "\n",
    "The label space just consists of\n",
    "the possible labels, zero to nine.\n",
    "Now that we have a specific vector representation,\n",
    "we also have to decide how we're going to compute distances\n",
    "between vectors and the most common, or default distance\n",
    "function is perhaps just Euclidean distance.\n",
    "So let's recall how this works in two dimensions.\n",
    "When you have two points, the Euclidean distance\n",
    "between them is just the length of the line connecting them.\n",
    "So it's the length of this line.\n",
    "And what is that length?\n",
    "\n",
    "Well, if you look at these two points, X and Z,\n",
    "along the first coordinate, they defer by two\n",
    "and along the second coordinate, they defer by three.\n",
    "So the length of the line, the distance from X to Z\n",
    "is simply the square root of two squared plus three squared\n",
    "which is the square root of 13.\n",
    "That's the Euclidean distance between X and Z\n",
    "in two dimensions, okay?\n",
    "\n",
    "Now of course we aren't working in two dimensions.\n",
    "We're working in a much higher dimensional space\n",
    "but the basic idea is the same.\n",
    "When you want to compute the distance\n",
    "between two vectors, X and Z, you simply find out\n",
    "how much they differ on each individual coordinate,\n",
    "you square these values, you add them up\n",
    "and then you take the square root of the whole thing.\n",
    "That's Euclidean distance.\n",
    "\n",
    "So now we have a representation of the images\n",
    "as vectors in 784 dimensional space\n",
    "and we have a distance function between images.\n",
    "So we're ready to use __nearest neighbor__.\n",
    "Each time we get a new image,\n",
    "we simply _find its nearest neighbor\n",
    "using Euclidean distance in 784 dimensional space\n",
    "and we return the __label__ of this training image_.\n",
    "\n",
    "#### So how good is this classifier?\n",
    "\n",
    "Well, let's look at some numbers.\n",
    "First of all, what is the __error rate__\n",
    "of the classifier on the training points?\n",
    "So we have these 60,000 training images.\n",
    "For any training point, its nearest neighbor\n",
    "in the training set is itself.\n",
    "So it'll definitely get the right label.\n",
    "So the error rate on the training set is zero.\n",
    "What that means is that training error\n",
    "is not a good predictor of future performance.\n",
    "It in general is something that is overly optimistic.\n",
    "That's why we have a separate test set.\n",
    "\n",
    "If we compute the error on those separate 10,000 points,\n",
    "that's really a much better indication\n",
    "of how well this classifier is gonna perform in practice.\n",
    "\n",
    "Now, what kind of test error might we expect?\n",
    "Well, let's do a little tore experiment.\n",
    "Suppose that we use the classifier\n",
    "that was completely random.\n",
    "When it was given an image, it didn't even look at the image\n",
    "but just randomly chose a number from zero to nine.\n",
    "What would be the error rate of a classifier like this?\n",
    "Well, whatever the correct label is,\n",
    "the chance that it randomly picks\n",
    "that correct label is 10%.\n",
    "So a random classifier has got an error rate of 90%.\n",
    "We certainly want to do better than that.\n",
    "Now let's see how well nearest neighbor does.\n",
    "<img src = 'acc_1.png' width=75%>\n",
    "That means that out of the 10,000 points,\n",
    "it gets 309 of them wrong.\n",
    "That's not too bad for such a simple method.\n",
    "Let's look at some of the mistakes that it makes.\n",
    "This query, for example.\n",
    "<img src = 'acc_2.png' width=75%>\n",
    "And these are some examples of the mistakes that it made.\n",
    "How can we improve its performance even further?\n",
    "\n",
    "Let's look at two standard ways of doing this.\n",
    "\n",
    "- The first is to move to K-nearest neighbors and the second is to look for better distance functions.\n",
    "    So K-nearest neighbor classification, this is a very simple idea.\n",
    "    When doing nearest neighbor, instead of simply looking for the very closest \n",
    "    point in the test set. Find the closest three points, or the closest five\n",
    "    points.They each have a label. Return the majority label, or the most common\n",
    "    label.\n",
    "    \n",
    "Let's see how this does on MNIST.\n",
    "<img src = 'acc_3.png' width=75%>\n",
    "So, when K equals one, this is just\n",
    "the same nearest neighbor classifier we saw last time.\n",
    "And it has an error rate of 3.09%.\n",
    "When K equals three what we're doing in order to classify\n",
    "a new image is finding it's three closest images\n",
    "in the training set.\n",
    "And returning their majority label.\n",
    "If we do this, the error rate goes down slightly,\n",
    "to 2.49%.\n",
    "When we try larger values of K,\n",
    "five, seven, nine, and so on,\n",
    "the error rate starts going up again.\n",
    "Okay?\n",
    "\n",
    "Now one thing that's important to mention over here,\n",
    "is that these errors are measured on the separate test set.\n",
    "Measuring errors on the training set is really a very\n",
    "poor indication of future performance.\n",
    "So on this particular data set, varying K\n",
    "helps a little bit, but not dramatically.\n",
    "In other cases, it sometimes helps a lot.\n",
    "But how do we choose the right value of K?\n",
    "In this toy example we had a separate test set,\n",
    "but that's not something we typically have in real life.\n",
    "We'd only have the training set\n",
    "and we've already made it clear\n",
    "that error on the training set is\n",
    "rather a poor indication of error in practice.\n",
    "How do we deal with this?\n",
    "This is a rather tricky problem.\n",
    "\n",
    "And it's a problem that's not limited to nearest neighbor.\n",
    "This is something we see over and over again\n",
    "in machine learning.\n",
    "Many of the methods we study will have parameters,\n",
    "like K, that need to be set correctly.\n",
    "If we set them well, the method works well.\n",
    "If we set them poorly, the method works poorly.\n",
    "And we have to somehow set them\n",
    "using the training set alone.\n",
    "A standard way of doing this is by\n",
    "something called cross-validation.\n",
    "So let me show you how this works for K-nearest neighbor.\n",
    "Suppose we want to evaluate a particular choice of K.\n",
    "<img src = 'acc_4.png' width=75%>\n",
    "Now of course, we will want to experiment\n",
    "with multiple values of K.\n",
    "We'll try K equals one, K equals three, K equals five\n",
    "and so on, and in each case,\n",
    "for each of these values of K, we'll run\n",
    "10-fold cross-validation, we'll get an error estimate\n",
    "and then we'll pick the K with the lowest error estimate,\n",
    "and that's how we find the K-nearest neighbor."
   ]
  },
  {
   "cell_type": "markdown",
   "metadata": {},
   "source": [
    "## Squared Euclidean distance\n",
    "\n",
    "To compute nearest neighbors in our data set, we need to first be able to compute distances between data points. A natural distance function is _Euclidean distance_: for two vectors $x, y \\in \\mathbb{R}^d$, their Euclidean distance is defined as \n",
    "$$\\|x - y\\| = \\sqrt{\\sum_{i=1}^d (x_i - y_i)^2}.$$\n",
    "Often we omit the square root, and simply compute _squared Euclidean distance_:\n",
    "$$\\|x - y\\|^2 = \\sum_{i=1}^d (x_i - y_i)^2.$$\n",
    "For the purposes of nearest neighbor computations, the two are equivalent: for three vectors $x, y, z \\in \\mathbb{R}^d$, we have $\\|x - y\\| \\leq \\|x - z\\|$ if and only if $\\|x - y\\|^2 \\leq \\|x - z\\|^2$.\n",
    "\n",
    "Now we just need to be able to compute squared Euclidean distance. The following function does so."
   ]
  },
  {
   "cell_type": "code",
   "execution_count": 18,
   "metadata": {
    "collapsed": true
   },
   "outputs": [
    {
     "data": {
      "image/png": "[encoded data removed]",
      "text/plain": [
       "<matplotlib.figure.Figure at 0x2421b14d518>"
      ]
     },
     "metadata": {},
     "output_type": "display_data"
    },
    {
     "name": "stdout",
     "output_type": "stream",
     "text": [
      "Label 5\n"
     ]
    },
    {
     "data": {
      "image/png": "[encoded data removed]",
      "text/plain": [
       "<matplotlib.figure.Figure at 0x2421b14d4e0>"
      ]
     },
     "metadata": {},
     "output_type": "display_data"
    },
    {
     "name": "stdout",
     "output_type": "stream",
     "text": [
      "Label 0\n"
     ]
    }
   ],
   "source": [
    "# Computes squared Euclidean distance between two vectors.\n",
    "def squared_dist(x,y):\n",
    "    return np.sum(np.square(x-y))\n",
    "    \n",
    "# Take two vectors from the train_data\n",
    "vis_image(39,'train')\n",
    "vis_image(99,'train')"
   ]
  },
  {
   "cell_type": "code",
   "execution_count": 21,
   "metadata": {
    "collapsed": false
   },
   "outputs": [
    {
     "name": "stdout",
     "output_type": "stream",
     "text": [
      "Distance from 5 to 0:  7.19534e+06\n"
     ]
    }
   ],
   "source": [
    "# Compute distance between them\n",
    "print('Distance from 5 to 0: ', squared_dist(train_data[39,],train_data[99,]))"
   ]
  },
  {
   "cell_type": "code",
   "execution_count": 35,
   "metadata": {
    "collapsed": false
   },
   "outputs": [
    {
     "data": {
      "text/plain": [
       "(784,)"
      ]
     },
     "execution_count": 35,
     "metadata": {},
     "output_type": "execute_result"
    }
   ],
   "source": [
    "train_data[39,].shape"
   ]
  },
  {
   "cell_type": "markdown",
   "metadata": {},
   "source": [
    "## Computing nearest neighbours\n",
    "\n",
    "Now that we have a distance function defined, we can now turn to nearest neighbour classification"
   ]
  },
  {
   "cell_type": "code",
   "execution_count": 36,
   "metadata": {
    "collapsed": false
   },
   "outputs": [],
   "source": [
    "## Takes a vector x and returns the index of its nearest neighbour in train_data\n",
    "def find_NN(x):\n",
    "    # Compute distances from x to every row in train_data\n",
    "    distances = [squared_dist(x,train_data[i,]) for i in range(len(train_labels))]\n",
    "    # Get the index of the smallest distance\n",
    "    return np.argmin(distances)\n",
    "\n",
    "# Takes a vector x and returns the class of its nearest neighbours in train_data\n",
    "def NN_classifier(x):\n",
    "    # Get the index of the nearest neighbour\n",
    "    index = find_NN(x)\n",
    "    # print(index)\n",
    "    # Return its class\n",
    "    return train_labels[index]"
   ]
  },
  {
   "cell_type": "markdown",
   "metadata": {},
   "source": [
    "## Examples"
   ]
  },
  {
   "cell_type": "code",
   "execution_count": 25,
   "metadata": {
    "collapsed": false
   },
   "outputs": [
    {
     "name": "stdout",
     "output_type": "stream",
     "text": [
      "A success case:\n",
      "NN classification: 0\n",
      "True label:  0\n",
      "The test label:  0\n",
      "The test image:\n"
     ]
    },
    {
     "data": {
      "image/png": "[encoded data removed]",
      "text/plain": [
       "<matplotlib.figure.Figure at 0x1e343d3b2e8>"
      ]
     },
     "metadata": {},
     "output_type": "display_data"
    },
    {
     "name": "stdout",
     "output_type": "stream",
     "text": [
      "Label 0\n",
      "The corresponding nearest neighbour image:\n"
     ]
    },
    {
     "data": {
      "image/png": "[encoded data removed]",
      "text/plain": [
       "<matplotlib.figure.Figure at 0x1e343d3b320>"
      ]
     },
     "metadata": {},
     "output_type": "display_data"
    },
    {
     "name": "stdout",
     "output_type": "stream",
     "text": [
      "Label 0\n"
     ]
    }
   ],
   "source": [
    "# A success case\n",
    "print('A success case:')\n",
    "print('NN classification:', NN_classifier(test_data[0,]))\n",
    "print('True label: ', test_labels[0])\n",
    "print('The test label: ', test_labels[0])\n",
    "print('The test image:')\n",
    "vis_image(0,'test')\n",
    "print('The corresponding nearest neighbour image:')\n",
    "vis_image(find_NN(test_data[0,]),'train')"
   ]
  },
  {
   "cell_type": "code",
   "execution_count": 26,
   "metadata": {
    "collapsed": false
   },
   "outputs": [
    {
     "name": "stdout",
     "output_type": "stream",
     "text": [
      "A failure case:\n",
      "NN classification:  2\n",
      "True label:  3\n",
      "The test image:\n"
     ]
    },
    {
     "data": {
      "image/png": "[encoded data removed]",
      "text/plain": [
       "<matplotlib.figure.Figure at 0x1e343d9fb38>"
      ]
     },
     "metadata": {},
     "output_type": "display_data"
    },
    {
     "name": "stdout",
     "output_type": "stream",
     "text": [
      "Label 3\n",
      "The corresponding nearest neighbor image:\n"
     ]
    },
    {
     "data": {
      "image/png": "[encoded data removed]",
      "text/plain": [
       "<matplotlib.figure.Figure at 0x1e343d9fba8>"
      ]
     },
     "metadata": {},
     "output_type": "display_data"
    },
    {
     "name": "stdout",
     "output_type": "stream",
     "text": [
      "Label 2\n"
     ]
    }
   ],
   "source": [
    "## A failure case:\n",
    "print(\"A failure case:\")\n",
    "print(\"NN classification: \", NN_classifier(test_data[39,]))\n",
    "print(\"True label: \", test_labels[39])\n",
    "print(\"The test image:\")\n",
    "vis_image(39, \"test\")\n",
    "print(\"The corresponding nearest neighbor image:\")\n",
    "vis_image(find_NN(test_data[39,]), \"train\")"
   ]
  },
  {
   "cell_type": "markdown",
   "metadata": {},
   "source": [
    "## 6. Processing the full test set\n",
    "\n",
    "Now let's apply our nearest neighbor classifier over the full data set.\n",
    "\n",
    "Note that to classify each test point, our code takes a full pass over each of the 7500 training examples. Thus we should not expect testing to be very fast. The following code takes about 100-150 seconds on 2.6 GHz Intel Core i5."
   ]
  },
  {
   "cell_type": "code",
   "execution_count": 28,
   "metadata": {
    "collapsed": false
   },
   "outputs": [
    {
     "name": "stdout",
     "output_type": "stream",
     "text": [
      "Error of nearest neighbor classifier:  0.046\n",
      "Classification time (seconds):  102.36734628677368\n"
     ]
    }
   ],
   "source": [
    "## Predict on each test data point (and time it)\n",
    "t_before = time.time()\n",
    "test_predictions = [NN_classifier(test_data[i,]) for i in range(len(test_labels))]\n",
    "t_after = time.time()\n",
    "\n",
    "## Compute the error\n",
    "err_positions = np.not_equal(test_predictions, test_labels)\n",
    "error = float(np.sum(err_positions))/len(test_labels)\n",
    "\n",
    "\n",
    "print(\"Error of nearest neighbor classifier: \", error)\n",
    "print(\"Classification time (seconds): \", t_after - t_before)"
   ]
  },
  {
   "cell_type": "markdown",
   "metadata": {},
   "source": [
    "## Faster nearest neighbours methods\n",
    "\n",
    "Performing nearest neighbor classification in the way we have presented requires a full pass through the training set in order to classify a single point. If there are $N$ training points in $\\mathbb{R}^d$, this takes $O(N d)$ time.\n",
    "\n",
    "Fortunately, there are faster methods to perform nearest neighbor look up if we are willing to spend some time preprocessing the training set. `scikit-learn` has fast implementations of two useful nearest neighbor data structures: the _ball tree_ and the _k-d tree_."
   ]
  },
  {
   "cell_type": "code",
   "execution_count": 29,
   "metadata": {
    "collapsed": false
   },
   "outputs": [
    {
     "name": "stdout",
     "output_type": "stream",
     "text": [
      "Time to build data structure (seconds):  0.8019440174102783\n",
      "Time to classify test set (seconds):  7.288890838623047\n",
      "Ball tree produces same predictions as above?  True\n"
     ]
    }
   ],
   "source": [
    "from sklearn.neighbors import BallTree\n",
    "\n",
    "## Build nearest neighbor structure on training data\n",
    "t_before = time.time()\n",
    "ball_tree = BallTree(train_data)\n",
    "t_after = time.time()\n",
    "\n",
    "## Compute training time\n",
    "t_training = t_after - t_before\n",
    "print(\"Time to build data structure (seconds): \", t_training)\n",
    "\n",
    "## Get nearest neighbor predictions on testing data\n",
    "t_before = time.time()\n",
    "test_neighbors = np.squeeze(ball_tree.query(test_data, k=1, return_distance=False))\n",
    "ball_tree_predictions = train_labels[test_neighbors]\n",
    "t_after = time.time()\n",
    "\n",
    "## Compute testing time\n",
    "t_testing = t_after - t_before\n",
    "print(\"Time to classify test set (seconds): \", t_testing)\n",
    "\n",
    "## Verify that the predictions are the same\n",
    "print(\"Ball tree produces same predictions as above? \", \n",
    "      np.array_equal(test_predictions, ball_tree_predictions))"
   ]
  },
  {
   "cell_type": "code",
   "execution_count": 30,
   "metadata": {
    "collapsed": false
   },
   "outputs": [
    {
     "name": "stdout",
     "output_type": "stream",
     "text": [
      "Time to build data structure (seconds):  0.7470002174377441\n",
      "Time to classify test set (seconds):  9.432940244674683\n",
      "KD tree produces same predictions as above?  True\n"
     ]
    }
   ],
   "source": [
    "from sklearn.neighbors import KDTree\n",
    "\n",
    "## Build nearest neighbor structure on training data\n",
    "t_before = time.time()\n",
    "kd_tree = KDTree(train_data)\n",
    "t_after = time.time()\n",
    "\n",
    "## Compute training time\n",
    "t_training = t_after - t_before\n",
    "print(\"Time to build data structure (seconds): \", t_training)\n",
    "\n",
    "## Get nearest neighbor predictions on testing data\n",
    "t_before = time.time()\n",
    "test_neighbors = np.squeeze(kd_tree.query(test_data, k=1, return_distance=False))\n",
    "kd_tree_predictions = train_labels[test_neighbors]\n",
    "t_after = time.time()\n",
    "\n",
    "## Compute testing time\n",
    "t_testing = t_after - t_before\n",
    "print(\"Time to classify test set (seconds): \", t_testing)\n",
    "\n",
    "## Verify that the predictions are the same\n",
    "print(\"KD tree produces same predictions as above? \", \n",
    "      np.array_equal(test_predictions, kd_tree_predictions))"
   ]
  },
  {
   "cell_type": "code",
   "execution_count": null,
   "metadata": {
    "collapsed": true
   },
   "outputs": [],
   "source": []
  }
 ],
 "metadata": {
  "kernelspec": {
   "display_name": "Python 3",
   "language": "python",
   "name": "python3"
  },
  "language_info": {
   "codemirror_mode": {
    "name": "ipython",
    "version": 3
   },
   "file_extension": ".py",
   "mimetype": "text/x-python",
   "name": "python",
   "nbconvert_exporter": "python",
   "pygments_lexer": "ipython3",
   "version": "3.6.0"
  }
 },
 "nbformat": 4,
 "nbformat_minor": 2
}
