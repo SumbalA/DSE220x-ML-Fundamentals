{
 "cells": [
  {
   "cell_type": "code",
   "execution_count": 1,
   "metadata": {
    "collapsed": true
   },
   "outputs": [],
   "source": [
    "import numpy as np\n",
    "import matplotlib.pyplot as plt\n",
    "%matplotlib inline"
   ]
  },
  {
   "cell_type": "code",
   "execution_count": 16,
   "metadata": {
    "collapsed": false
   },
   "outputs": [],
   "source": [
    "train_data = np.load('./MNIST/train_data.npy')\n",
    "test_data = np.load('./MNIST/test_data.npy')\n",
    "train_labels = np.load('./MNIST/train_labels.npy')\n",
    "test_labels = np.load('./MNIST/test_labels.npy')"
   ]
  },
  {
   "cell_type": "code",
   "execution_count": 17,
   "metadata": {
    "collapsed": false
   },
   "outputs": [
    {
     "data": {
      "text/plain": [
       "numpy.ndarray"
      ]
     },
     "execution_count": 17,
     "metadata": {},
     "output_type": "execute_result"
    }
   ],
   "source": [
    "type(test_data)"
   ]
  },
  {
   "cell_type": "code",
   "execution_count": 25,
   "metadata": {
    "collapsed": false
   },
   "outputs": [
    {
     "name": "stdout",
     "output_type": "stream",
     "text": [
      "(7500, 784)\n",
      "(1000, 784)\n",
      "(7500,)\n",
      "(1000,)\n"
     ]
    }
   ],
   "source": [
    "print(train_data.shape)\n",
    "print(test_data.shape)\n",
    "print(train_labels.shape)\n",
    "print(test_labels.shape)"
   ]
  },
  {
   "cell_type": "code",
   "execution_count": 65,
   "metadata": {
    "collapsed": false
   },
   "outputs": [
    {
     "name": "stdout",
     "output_type": "stream",
     "text": [
      "0\n",
      "784\n",
      "9\n"
     ]
    },
    {
     "data": {
      "image/png": "[encoded data removed]",
      "text/plain": [
       "<matplotlib.figure.Figure at 0x19dc5201048>"
      ]
     },
     "metadata": {},
     "output_type": "display_data"
    }
   ],
   "source": [
    "#print(test_data[0])\n",
    "print(test_labels[0])\n",
    "plt.imshow(test_data[0].reshape(28,28),cmap='gray')\n",
    "print(len(train_data[0]))\n",
    "print(train_labels[0])"
   ]
  },
  {
   "cell_type": "code",
   "execution_count": 66,
   "metadata": {
    "collapsed": false
   },
   "outputs": [
    {
     "data": {
      "text/plain": [
       "<matplotlib.image.AxesImage at 0x19dc52f9e48>"
      ]
     },
     "execution_count": 66,
     "metadata": {},
     "output_type": "execute_result"
    },
    {
     "data": {
      "image/png": "[encoded data removed]",
      "text/plain": [
       "<matplotlib.figure.Figure at 0x19dc4bce940>"
      ]
     },
     "metadata": {},
     "output_type": "display_data"
    }
   ],
   "source": [
    "plt.imshow(train_data[0].reshape(28,28),cmap='gray')"
   ]
  },
  {
   "cell_type": "code",
   "execution_count": 69,
   "metadata": {
    "collapsed": true
   },
   "outputs": [],
   "source": [
    "# squared distance between two vectors\n",
    "def get_sq_dist(x,y):\n",
    "    return np.sum(np.square(x-y))"
   ]
  },
  {
   "cell_type": "code",
   "execution_count": 70,
   "metadata": {
    "collapsed": false
   },
   "outputs": [
    {
     "data": {
      "text/plain": [
       "8291840.0"
      ]
     },
     "execution_count": 70,
     "metadata": {},
     "output_type": "execute_result"
    }
   ],
   "source": [
    "# distance between upper samples 9 and 0:\n",
    "get_sq_dist(test_data[0],train_data[0])"
   ]
  },
  {
   "cell_type": "code",
   "execution_count": 73,
   "metadata": {
    "collapsed": false
   },
   "outputs": [
    {
     "name": "stdout",
     "output_type": "stream",
     "text": [
      "6696\n"
     ]
    },
    {
     "data": {
      "text/plain": [
       "<matplotlib.image.AxesImage at 0x19dc4bddd30>"
      ]
     },
     "execution_count": 73,
     "metadata": {},
     "output_type": "execute_result"
    },
    {
     "data": {
      "image/png": "[encoded data removed]",
      "text/plain": [
       "<matplotlib.figure.Figure at 0x19dc527bdd8>"
      ]
     },
     "metadata": {},
     "output_type": "display_data"
    }
   ],
   "source": [
    "# get index of the NN\n",
    "ind=np.argmin([get_sq_dist(train_data[i,],test_data[0]) for i in range(len(train_labels))])\n",
    "print(ind)\n",
    "plt.imshow(train_data[ind].reshape(28,28),cmap='gray')"
   ]
  },
  {
   "cell_type": "code",
   "execution_count": 74,
   "metadata": {
    "collapsed": false
   },
   "outputs": [
    {
     "data": {
      "text/plain": [
       "<matplotlib.image.AxesImage at 0x19dc50258d0>"
      ]
     },
     "execution_count": 74,
     "metadata": {},
     "output_type": "execute_result"
    },
    {
     "data": {
      "image/png": "[encoded data removed]",
      "text/plain": [
       "<matplotlib.figure.Figure at 0x19dc47bf908>"
      ]
     },
     "metadata": {},
     "output_type": "display_data"
    }
   ],
   "source": [
    "plt.imshow(test_data[145].reshape(28,28),cmap='gray')"
   ]
  },
  {
   "cell_type": "code",
   "execution_count": 76,
   "metadata": {
    "collapsed": false
   },
   "outputs": [
    {
     "name": "stdout",
     "output_type": "stream",
     "text": [
      "384\n"
     ]
    },
    {
     "data": {
      "text/plain": [
       "<matplotlib.image.AxesImage at 0x19dc4dfd470>"
      ]
     },
     "execution_count": 76,
     "metadata": {},
     "output_type": "execute_result"
    },
    {
     "data": {
      "image/png": "[encoded data removed]",
      "text/plain": [
       "<matplotlib.figure.Figure at 0x19dc509f4a8>"
      ]
     },
     "metadata": {},
     "output_type": "display_data"
    }
   ],
   "source": [
    "ind=np.argmin([get_sq_dist(train_data[i,],test_data[145]) for i in range(len(train_labels))])\n",
    "print(ind)\n",
    "plt.imshow(train_data[ind].reshape(28,28),cmap='gray')"
   ]
  },
  {
   "cell_type": "code",
   "execution_count": 78,
   "metadata": {
    "collapsed": false
   },
   "outputs": [
    {
     "name": "stdout",
     "output_type": "stream",
     "text": [
      "2157\n"
     ]
    },
    {
     "data": {
      "text/plain": [
       "<matplotlib.image.AxesImage at 0x19dc5435f98>"
      ]
     },
     "execution_count": 78,
     "metadata": {},
     "output_type": "execute_result"
    },
    {
     "data": {
      "image/png": "[encoded data removed]",
      "text/plain": [
       "<matplotlib.figure.Figure at 0x19dc53d1128>"
      ]
     },
     "metadata": {},
     "output_type": "display_data"
    }
   ],
   "source": [
    "ind=np.argmin([get_sq_dist(train_data[i,],test_data[998]) for i in range(len(train_labels))])\n",
    "print(ind)\n",
    "plt.imshow(train_data[ind].reshape(28,28),cmap='gray')"
   ]
  },
  {
   "cell_type": "code",
   "execution_count": 79,
   "metadata": {
    "collapsed": false
   },
   "outputs": [
    {
     "data": {
      "text/plain": [
       "<matplotlib.image.AxesImage at 0x19dc54bdcf8>"
      ]
     },
     "execution_count": 79,
     "metadata": {},
     "output_type": "execute_result"
    },
    {
     "data": {
      "image/png": "[encoded data removed]",
      "text/plain": [
       "<matplotlib.figure.Figure at 0x19dc525af28>"
      ]
     },
     "metadata": {},
     "output_type": "display_data"
    }
   ],
   "source": [
    "plt.imshow(test_data[998].reshape(28,28),cmap='gray')"
   ]
  },
  {
   "cell_type": "code",
   "execution_count": 80,
   "metadata": {
    "collapsed": true
   },
   "outputs": [],
   "source": [
    "import time"
   ]
  },
  {
   "cell_type": "code",
   "execution_count": 91,
   "metadata": {
    "collapsed": true
   },
   "outputs": [],
   "source": [
    "def get_NN_idx(x):\n",
    "    distances = [get_sq_dist(train_data[i,],x) for i in range(len(train_labels))]\n",
    "    return np.argmin(distances)"
   ]
  },
  {
   "cell_type": "code",
   "execution_count": 97,
   "metadata": {
    "collapsed": true
   },
   "outputs": [],
   "source": [
    "def get_NN(x):\n",
    "    ind = get_NN_idx(x)\n",
    "    return train_labels[ind]"
   ]
  },
  {
   "cell_type": "code",
   "execution_count": 99,
   "metadata": {
    "collapsed": false
   },
   "outputs": [
    {
     "data": {
      "text/plain": [
       "8"
      ]
     },
     "execution_count": 99,
     "metadata": {},
     "output_type": "execute_result"
    }
   ],
   "source": [
    "get_NN(test_data[976])"
   ]
  },
  {
   "cell_type": "code",
   "execution_count": 100,
   "metadata": {
    "collapsed": false
   },
   "outputs": [],
   "source": [
    "time_start = time.time()\n",
    "full_test = [get_NN(test_data[j,]) for j in range(len(test_labels))]"
   ]
  },
  {
   "cell_type": "code",
   "execution_count": 101,
   "metadata": {
    "collapsed": true
   },
   "outputs": [],
   "source": [
    "time_end = time.time()"
   ]
  },
  {
   "cell_type": "code",
   "execution_count": 104,
   "metadata": {
    "collapsed": false
   },
   "outputs": [
    {
     "name": "stdout",
     "output_type": "stream",
     "text": [
      "95.9206793308258\n"
     ]
    }
   ],
   "source": [
    "print(time_end-time_start)"
   ]
  },
  {
   "cell_type": "code",
   "execution_count": 105,
   "metadata": {
    "collapsed": false
   },
   "outputs": [
    {
     "data": {
      "text/plain": [
       "0.046"
      ]
     },
     "execution_count": 105,
     "metadata": {},
     "output_type": "execute_result"
    }
   ],
   "source": [
    "# compute the error\n",
    "err_positions = np.not_equal(full_test,test_labels)\n",
    "error = float(np.sum(err_positions))/len(test_labels)\n",
    "error"
   ]
  },
  {
   "cell_type": "markdown",
   "metadata": {},
   "source": [
    "### There are faster methods to perform Nearest Meighbor look up: \n",
    "scikit-learn has fast implementations of two useful nearest neighbor data structures: __ball tree__ and __k-d tree__"
   ]
  },
  {
   "cell_type": "code",
   "execution_count": 107,
   "metadata": {
    "collapsed": false
   },
   "outputs": [
    {
     "name": "stdout",
     "output_type": "stream",
     "text": [
      "0.7453534603118896\n"
     ]
    }
   ],
   "source": [
    "from sklearn.neighbors import BallTree\n",
    "\n",
    "## Build nearest neighbor structure on training data\n",
    "t_before = time.time()\n",
    "ball_tree = BallTree(train_data)\n",
    "t_after = time.time()\n",
    "print(t_after-t_before)"
   ]
  },
  {
   "cell_type": "code",
   "execution_count": 114,
   "metadata": {
    "collapsed": false
   },
   "outputs": [
    {
     "data": {
      "text/plain": [
       "array([[6696]], dtype=int64)"
      ]
     },
     "execution_count": 114,
     "metadata": {},
     "output_type": "execute_result"
    }
   ],
   "source": [
    "dist,ind = ball_tree.query([test_data[0]],k=1)\n",
    "ind"
   ]
  },
  {
   "cell_type": "code",
   "execution_count": 117,
   "metadata": {
    "collapsed": false
   },
   "outputs": [
    {
     "data": {
      "text/plain": [
       "<matplotlib.image.AxesImage at 0x19dca92a198>"
      ]
     },
     "execution_count": 117,
     "metadata": {},
     "output_type": "execute_result"
    },
    {
     "data": {
      "image/png": "[encoded data removed]",
      "text/plain": [
       "<matplotlib.figure.Figure at 0x19dc53c09b0>"
      ]
     },
     "metadata": {},
     "output_type": "display_data"
    }
   ],
   "source": [
    "plt.imshow(train_data[6696].reshape(28,28),cmap='gray')"
   ]
  },
  {
   "cell_type": "code",
   "execution_count": 118,
   "metadata": {
    "collapsed": false
   },
   "outputs": [
    {
     "data": {
      "text/plain": [
       "array([[6696],\n",
       "       [1363],\n",
       "       [4002],\n",
       "       [7495],\n",
       "       [6368],\n",
       "       [5858],\n",
       "       [5881],\n",
       "       [3730],\n",
       "       [5750],\n",
       "       [4911],\n",
       "       [2145],\n",
       "       [5479],\n",
       "       [2838],\n",
       "       [1218],\n",
       "       [7202],\n",
       "       [4791],\n",
       "       [6906],\n",
       "       [ 348],\n",
       "       [6657],\n",
       "       [5533],\n",
       "       [6843],\n",
       "       [5305],\n",
       "       [2779],\n",
       "       [ 894],\n",
       "       [3702],\n",
       "       [3939],\n",
       "       [ 762],\n",
       "       [3604],\n",
       "       [4742],\n",
       "       [5868],\n",
       "       [5459],\n",
       "       [ 357],\n",
       "       [6733],\n",
       "       [6914],\n",
       "       [3632],\n",
       "       [5463],\n",
       "       [6265],\n",
       "       [1468],\n",
       "       [4293],\n",
       "       [4455],\n",
       "       [2448],\n",
       "       [5553],\n",
       "       [3974],\n",
       "       [4405],\n",
       "       [7384],\n",
       "       [3374],\n",
       "       [3941],\n",
       "       [2014],\n",
       "       [5146],\n",
       "       [6492],\n",
       "       [3148],\n",
       "       [5340],\n",
       "       [3811],\n",
       "       [3931],\n",
       "       [3123],\n",
       "       [3469],\n",
       "       [6264],\n",
       "       [ 359],\n",
       "       [1823],\n",
       "       [7069],\n",
       "       [4108],\n",
       "       [3753],\n",
       "       [3460],\n",
       "       [2403],\n",
       "       [4453],\n",
       "       [1399],\n",
       "       [2841],\n",
       "       [2036],\n",
       "       [4099],\n",
       "       [2458],\n",
       "       [ 464],\n",
       "       [5850],\n",
       "       [2186],\n",
       "       [2720],\n",
       "       [2206],\n",
       "       [4664],\n",
       "       [3689],\n",
       "       [1087],\n",
       "       [5160],\n",
       "       [4558],\n",
       "       [4998],\n",
       "       [7454],\n",
       "       [5675],\n",
       "       [3108],\n",
       "       [2514],\n",
       "       [5540],\n",
       "       [7444],\n",
       "       [4392],\n",
       "       [6225],\n",
       "       [2154],\n",
       "       [4588],\n",
       "       [ 453],\n",
       "       [1221],\n",
       "       [2913],\n",
       "       [4325],\n",
       "       [  72],\n",
       "       [2186],\n",
       "       [4742],\n",
       "       [1384],\n",
       "       [1844],\n",
       "       [4711],\n",
       "       [ 532],\n",
       "       [6190],\n",
       "       [1030],\n",
       "       [6566],\n",
       "       [3068],\n",
       "       [6503],\n",
       "       [5139],\n",
       "       [3389],\n",
       "       [4333],\n",
       "       [3415],\n",
       "       [6830],\n",
       "       [ 928],\n",
       "       [6788],\n",
       "       [3666],\n",
       "       [ 968],\n",
       "       [2236],\n",
       "       [3844],\n",
       "       [6687],\n",
       "       [4820],\n",
       "       [2858],\n",
       "       [ 206],\n",
       "       [1712],\n",
       "       [ 964],\n",
       "       [4974],\n",
       "       [2519],\n",
       "       [1363],\n",
       "       [3635],\n",
       "       [3842],\n",
       "       [7487],\n",
       "       [7141],\n",
       "       [5524],\n",
       "       [6183],\n",
       "       [ 566],\n",
       "       [2734],\n",
       "       [ 824],\n",
       "       [1503],\n",
       "       [5027],\n",
       "       [2231],\n",
       "       [5708],\n",
       "       [4343],\n",
       "       [4241],\n",
       "       [4480],\n",
       "       [3939],\n",
       "       [3507],\n",
       "       [ 384],\n",
       "       [4837],\n",
       "       [6432],\n",
       "       [6443],\n",
       "       [5502],\n",
       "       [4291],\n",
       "       [6155],\n",
       "       [2827],\n",
       "       [1982],\n",
       "       [1123],\n",
       "       [5743],\n",
       "       [1287],\n",
       "       [6498],\n",
       "       [6988],\n",
       "       [6988],\n",
       "       [4849],\n",
       "       [4087],\n",
       "       [3811],\n",
       "       [2523],\n",
       "       [1579],\n",
       "       [  88],\n",
       "       [3274],\n",
       "       [6041],\n",
       "       [ 785],\n",
       "       [6000],\n",
       "       [5911],\n",
       "       [5881],\n",
       "       [1809],\n",
       "       [5232],\n",
       "       [5867],\n",
       "       [1403],\n",
       "       [5878],\n",
       "       [ 441],\n",
       "       [1896],\n",
       "       [7393],\n",
       "       [5902],\n",
       "       [2935],\n",
       "       [1871],\n",
       "       [6624],\n",
       "       [3047],\n",
       "       [5186],\n",
       "       [ 426],\n",
       "       [7469],\n",
       "       [1485],\n",
       "       [7090],\n",
       "       [4736],\n",
       "       [7453],\n",
       "       [3717],\n",
       "       [6479],\n",
       "       [2490],\n",
       "       [1254],\n",
       "       [7229],\n",
       "       [4074],\n",
       "       [3349],\n",
       "       [ 453],\n",
       "       [4297],\n",
       "       [2629],\n",
       "       [4104],\n",
       "       [5891],\n",
       "       [6937],\n",
       "       [4502],\n",
       "       [ 148],\n",
       "       [6253],\n",
       "       [2960],\n",
       "       [ 807],\n",
       "       [1572],\n",
       "       [2959],\n",
       "       [6386],\n",
       "       [4830],\n",
       "       [7229],\n",
       "       [7283],\n",
       "       [1131],\n",
       "       [2615],\n",
       "       [6264],\n",
       "       [  51],\n",
       "       [1217],\n",
       "       [1503],\n",
       "       [6612],\n",
       "       [6023],\n",
       "       [6451],\n",
       "       [6421],\n",
       "       [3847],\n",
       "       [6081],\n",
       "       [1506],\n",
       "       [ 353],\n",
       "       [6376],\n",
       "       [5178],\n",
       "       [1950],\n",
       "       [3159],\n",
       "       [7492],\n",
       "       [6204],\n",
       "       [4568],\n",
       "       [5361],\n",
       "       [4825],\n",
       "       [6491],\n",
       "       [3973],\n",
       "       [3973],\n",
       "       [3176],\n",
       "       [2783],\n",
       "       [1198],\n",
       "       [4024],\n",
       "       [7453],\n",
       "       [ 680],\n",
       "       [1830],\n",
       "       [5107],\n",
       "       [2508],\n",
       "       [1672],\n",
       "       [3073],\n",
       "       [3886],\n",
       "       [7031],\n",
       "       [1869],\n",
       "       [5359],\n",
       "       [ 837],\n",
       "       [7143],\n",
       "       [5509],\n",
       "       [ 440],\n",
       "       [6427],\n",
       "       [2197],\n",
       "       [ 798],\n",
       "       [5771],\n",
       "       [4006],\n",
       "       [6843],\n",
       "       [6162],\n",
       "       [7108],\n",
       "       [5149],\n",
       "       [3954],\n",
       "       [5511],\n",
       "       [ 568],\n",
       "       [4034],\n",
       "       [4064],\n",
       "       [4333],\n",
       "       [3042],\n",
       "       [6937],\n",
       "       [4823],\n",
       "       [6611],\n",
       "       [7469],\n",
       "       [4867],\n",
       "       [6468],\n",
       "       [ 922],\n",
       "       [ 532],\n",
       "       [ 787],\n",
       "       [ 356],\n",
       "       [2034],\n",
       "       [4761],\n",
       "       [4442],\n",
       "       [4256],\n",
       "       [1485],\n",
       "       [ 396],\n",
       "       [3147],\n",
       "       [6506],\n",
       "       [3976],\n",
       "       [2882],\n",
       "       [2685],\n",
       "       [1675],\n",
       "       [4171],\n",
       "       [  79],\n",
       "       [3952],\n",
       "       [2676],\n",
       "       [2997],\n",
       "       [5980],\n",
       "       [4265],\n",
       "       [4931],\n",
       "       [ 475],\n",
       "       [7137],\n",
       "       [1918],\n",
       "       [3883],\n",
       "       [1424],\n",
       "       [1230],\n",
       "       [  25],\n",
       "       [3571],\n",
       "       [6230],\n",
       "       [2132],\n",
       "       [ 585],\n",
       "       [ 469],\n",
       "       [7452],\n",
       "       [5629],\n",
       "       [3051],\n",
       "       [4576],\n",
       "       [1165],\n",
       "       [3674],\n",
       "       [ 199],\n",
       "       [4402],\n",
       "       [ 271],\n",
       "       [3167],\n",
       "       [4353],\n",
       "       [1665],\n",
       "       [1769],\n",
       "       [2731],\n",
       "       [3664],\n",
       "       [2448],\n",
       "       [5353],\n",
       "       [2878],\n",
       "       [5450],\n",
       "       [6122],\n",
       "       [ 410],\n",
       "       [4942],\n",
       "       [1389],\n",
       "       [3167],\n",
       "       [2565],\n",
       "       [1483],\n",
       "       [7064],\n",
       "       [3492],\n",
       "       [  41],\n",
       "       [ 148],\n",
       "       [3298],\n",
       "       [5584],\n",
       "       [1187],\n",
       "       [ 703],\n",
       "       [5693],\n",
       "       [4589],\n",
       "       [4571],\n",
       "       [3546],\n",
       "       [5351],\n",
       "       [5777],\n",
       "       [ 600],\n",
       "       [2236],\n",
       "       [ 298],\n",
       "       [2896],\n",
       "       [5446],\n",
       "       [1339],\n",
       "       [6447],\n",
       "       [2672],\n",
       "       [3588],\n",
       "       [7465],\n",
       "       [1121],\n",
       "       [3555],\n",
       "       [4702],\n",
       "       [2539],\n",
       "       [2271],\n",
       "       [3879],\n",
       "       [ 723],\n",
       "       [5330],\n",
       "       [4246],\n",
       "       [2637],\n",
       "       [5980],\n",
       "       [7383],\n",
       "       [3814],\n",
       "       [7355],\n",
       "       [3580],\n",
       "       [3277],\n",
       "       [1815],\n",
       "       [1798],\n",
       "       [6037],\n",
       "       [3886],\n",
       "       [2393],\n",
       "       [3071],\n",
       "       [5301],\n",
       "       [ 863],\n",
       "       [2077],\n",
       "       [3333],\n",
       "       [3472],\n",
       "       [5881],\n",
       "       [1691],\n",
       "       [3567],\n",
       "       [6462],\n",
       "       [ 274],\n",
       "       [1904],\n",
       "       [2186],\n",
       "       [5775],\n",
       "       [2231],\n",
       "       [3231],\n",
       "       [7110],\n",
       "       [7401],\n",
       "       [ 492],\n",
       "       [3377],\n",
       "       [5671],\n",
       "       [1156],\n",
       "       [2279],\n",
       "       [ 583],\n",
       "       [1233],\n",
       "       [ 526],\n",
       "       [ 884],\n",
       "       [5540],\n",
       "       [1551],\n",
       "       [ 378],\n",
       "       [1198],\n",
       "       [1196],\n",
       "       [6379],\n",
       "       [ 147],\n",
       "       [7089],\n",
       "       [2886],\n",
       "       [3167],\n",
       "       [7142],\n",
       "       [1308],\n",
       "       [5128],\n",
       "       [3497],\n",
       "       [6361],\n",
       "       [2547],\n",
       "       [7283],\n",
       "       [1894],\n",
       "       [3204],\n",
       "       [4695],\n",
       "       [5358],\n",
       "       [1200],\n",
       "       [4008],\n",
       "       [5357],\n",
       "       [ 592],\n",
       "       [5189],\n",
       "       [1391],\n",
       "       [  56],\n",
       "       [6148],\n",
       "       [2335],\n",
       "       [3055],\n",
       "       [1138],\n",
       "       [7371],\n",
       "       [ 669],\n",
       "       [3260],\n",
       "       [ 920],\n",
       "       [2320],\n",
       "       [ 536],\n",
       "       [3006],\n",
       "       [6187],\n",
       "       [4552],\n",
       "       [4404],\n",
       "       [6608],\n",
       "       [3555],\n",
       "       [ 557],\n",
       "       [1842],\n",
       "       [5901],\n",
       "       [5292],\n",
       "       [ 851],\n",
       "       [5386],\n",
       "       [ 841],\n",
       "       [5368],\n",
       "       [6322],\n",
       "       [ 123],\n",
       "       [2831],\n",
       "       [5436],\n",
       "       [ 604],\n",
       "       [6757],\n",
       "       [4167],\n",
       "       [3813],\n",
       "       [5766],\n",
       "       [4187],\n",
       "       [2715],\n",
       "       [2897],\n",
       "       [4363],\n",
       "       [1387],\n",
       "       [2351],\n",
       "       [6617],\n",
       "       [2279],\n",
       "       [7373],\n",
       "       [4860],\n",
       "       [2229],\n",
       "       [4849],\n",
       "       [7480],\n",
       "       [1284],\n",
       "       [5817],\n",
       "       [2224],\n",
       "       [3727],\n",
       "       [1783],\n",
       "       [2303],\n",
       "       [4733],\n",
       "       [5365],\n",
       "       [6005],\n",
       "       [3076],\n",
       "       [4395],\n",
       "       [5464],\n",
       "       [3362],\n",
       "       [5116],\n",
       "       [6406],\n",
       "       [2662],\n",
       "       [1352],\n",
       "       [2971],\n",
       "       [ 454],\n",
       "       [5794],\n",
       "       [4821],\n",
       "       [1997],\n",
       "       [2579],\n",
       "       [2048],\n",
       "       [4119],\n",
       "       [3469],\n",
       "       [5909],\n",
       "       [3095],\n",
       "       [6218],\n",
       "       [1249],\n",
       "       [1546],\n",
       "       [6158],\n",
       "       [4056],\n",
       "       [3316],\n",
       "       [5365],\n",
       "       [4153],\n",
       "       [3581],\n",
       "       [3389],\n",
       "       [5963],\n",
       "       [ 358],\n",
       "       [6785],\n",
       "       [4311],\n",
       "       [5862],\n",
       "       [6941],\n",
       "       [1362],\n",
       "       [2544],\n",
       "       [ 640],\n",
       "       [1090],\n",
       "       [4125],\n",
       "       [6577],\n",
       "       [3424],\n",
       "       [5386],\n",
       "       [1153],\n",
       "       [3756],\n",
       "       [3549],\n",
       "       [2514],\n",
       "       [5384],\n",
       "       [1474],\n",
       "       [1022],\n",
       "       [4286],\n",
       "       [ 575],\n",
       "       [5146],\n",
       "       [5585],\n",
       "       [  19],\n",
       "       [3889],\n",
       "       [7095],\n",
       "       [5831],\n",
       "       [ 583],\n",
       "       [  23],\n",
       "       [2994],\n",
       "       [3093],\n",
       "       [3580],\n",
       "       [4311],\n",
       "       [6877],\n",
       "       [ 233],\n",
       "       [6321],\n",
       "       [  75],\n",
       "       [3925],\n",
       "       [2155],\n",
       "       [7132],\n",
       "       [4479],\n",
       "       [1123],\n",
       "       [5375],\n",
       "       [6533],\n",
       "       [4150],\n",
       "       [3808],\n",
       "       [1019],\n",
       "       [ 173],\n",
       "       [5317],\n",
       "       [4904],\n",
       "       [4319],\n",
       "       [3627],\n",
       "       [5535],\n",
       "       [2458],\n",
       "       [1691],\n",
       "       [5578],\n",
       "       [ 170],\n",
       "       [3798],\n",
       "       [2129],\n",
       "       [2113],\n",
       "       [2793],\n",
       "       [4250],\n",
       "       [2626],\n",
       "       [2224],\n",
       "       [5404],\n",
       "       [1762],\n",
       "       [6826],\n",
       "       [  87],\n",
       "       [1493],\n",
       "       [1550],\n",
       "       [2626],\n",
       "       [6875],\n",
       "       [4419],\n",
       "       [1865],\n",
       "       [6406],\n",
       "       [ 292],\n",
       "       [6040],\n",
       "       [1621],\n",
       "       [6048],\n",
       "       [6356],\n",
       "       [  58],\n",
       "       [ 339],\n",
       "       [5884],\n",
       "       [1281],\n",
       "       [3320],\n",
       "       [1479],\n",
       "       [5316],\n",
       "       [3741],\n",
       "       [ 587],\n",
       "       [ 427],\n",
       "       [4702],\n",
       "       [6590],\n",
       "       [5720],\n",
       "       [ 566],\n",
       "       [5622],\n",
       "       [3547],\n",
       "       [5708],\n",
       "       [5178],\n",
       "       [2696],\n",
       "       [7246],\n",
       "       [3468],\n",
       "       [4639],\n",
       "       [ 112],\n",
       "       [5494],\n",
       "       [ 570],\n",
       "       [3420],\n",
       "       [1208],\n",
       "       [1694],\n",
       "       [1674],\n",
       "       [ 664],\n",
       "       [1549],\n",
       "       [6083],\n",
       "       [1254],\n",
       "       [3781],\n",
       "       [ 581],\n",
       "       [2824],\n",
       "       [3299],\n",
       "       [4247],\n",
       "       [4331],\n",
       "       [ 823],\n",
       "       [2482],\n",
       "       [ 834],\n",
       "       [4533],\n",
       "       [4908],\n",
       "       [1884],\n",
       "       [1334],\n",
       "       [ 760],\n",
       "       [4989],\n",
       "       [7395],\n",
       "       [2868],\n",
       "       [4930],\n",
       "       [5533],\n",
       "       [1513],\n",
       "       [4735],\n",
       "       [4351],\n",
       "       [4481],\n",
       "       [6396],\n",
       "       [4314],\n",
       "       [2305],\n",
       "       [2984],\n",
       "       [6848],\n",
       "       [4499],\n",
       "       [ 630],\n",
       "       [6790],\n",
       "       [2409],\n",
       "       [3252],\n",
       "       [  19],\n",
       "       [6272],\n",
       "       [2062],\n",
       "       [6429],\n",
       "       [1610],\n",
       "       [ 880],\n",
       "       [ 120],\n",
       "       [6223],\n",
       "       [ 839],\n",
       "       [6807],\n",
       "       [4402],\n",
       "       [3263],\n",
       "       [3448],\n",
       "       [2852],\n",
       "       [1022],\n",
       "       [4791],\n",
       "       [5944],\n",
       "       [4134],\n",
       "       [4350],\n",
       "       [7402],\n",
       "       [ 657],\n",
       "       [ 899],\n",
       "       [1986],\n",
       "       [ 396],\n",
       "       [3153],\n",
       "       [1035],\n",
       "       [3413],\n",
       "       [5511],\n",
       "       [3566],\n",
       "       [1478],\n",
       "       [3819],\n",
       "       [ 937],\n",
       "       [5714],\n",
       "       [   7],\n",
       "       [6086],\n",
       "       [4491],\n",
       "       [1043],\n",
       "       [7273],\n",
       "       [ 976],\n",
       "       [7368],\n",
       "       [4332],\n",
       "       [ 864],\n",
       "       [6704],\n",
       "       [7453],\n",
       "       [6096],\n",
       "       [1352],\n",
       "       [3234],\n",
       "       [3883],\n",
       "       [5232],\n",
       "       [7356],\n",
       "       [5053],\n",
       "       [5776],\n",
       "       [1733],\n",
       "       [2707],\n",
       "       [3573],\n",
       "       [3894],\n",
       "       [3186],\n",
       "       [2714],\n",
       "       [1712],\n",
       "       [5569],\n",
       "       [2236],\n",
       "       [3474],\n",
       "       [5507],\n",
       "       [1914],\n",
       "       [3767],\n",
       "       [2943],\n",
       "       [1860],\n",
       "       [3370],\n",
       "       [5444],\n",
       "       [2117],\n",
       "       [5601],\n",
       "       [5369],\n",
       "       [4437],\n",
       "       [1022],\n",
       "       [3263],\n",
       "       [1904],\n",
       "       [ 966],\n",
       "       [5030],\n",
       "       [3387],\n",
       "       [ 613],\n",
       "       [5138],\n",
       "       [2970],\n",
       "       [ 962],\n",
       "       [2490],\n",
       "       [3064],\n",
       "       [ 129],\n",
       "       [2660],\n",
       "       [1218],\n",
       "       [ 341],\n",
       "       [1505],\n",
       "       [2669],\n",
       "       [  75],\n",
       "       [3118],\n",
       "       [6959],\n",
       "       [3806],\n",
       "       [ 258],\n",
       "       [6162],\n",
       "       [4615],\n",
       "       [2540],\n",
       "       [2770],\n",
       "       [ 774],\n",
       "       [7313],\n",
       "       [7357],\n",
       "       [6961],\n",
       "       [ 159],\n",
       "       [1943],\n",
       "       [3887],\n",
       "       [3776],\n",
       "       [ 600],\n",
       "       [ 613],\n",
       "       [1081],\n",
       "       [1667],\n",
       "       [  43],\n",
       "       [2527],\n",
       "       [3935],\n",
       "       [1668],\n",
       "       [1182],\n",
       "       [4108],\n",
       "       [ 368],\n",
       "       [ 790],\n",
       "       [6172],\n",
       "       [4504],\n",
       "       [3167],\n",
       "       [2712],\n",
       "       [4830],\n",
       "       [3106],\n",
       "       [5292],\n",
       "       [4110],\n",
       "       [3606],\n",
       "       [6782],\n",
       "       [6473],\n",
       "       [6469],\n",
       "       [5525],\n",
       "       [6026],\n",
       "       [6470],\n",
       "       [7053],\n",
       "       [1855],\n",
       "       [6155],\n",
       "       [2492],\n",
       "       [4730],\n",
       "       [3227],\n",
       "       [1667],\n",
       "       [6886],\n",
       "       [1000],\n",
       "       [2355],\n",
       "       [3318],\n",
       "       [6701],\n",
       "       [5046],\n",
       "       [1893],\n",
       "       [4325],\n",
       "       [4373],\n",
       "       [5818],\n",
       "       [6423],\n",
       "       [1379],\n",
       "       [4683],\n",
       "       [1223],\n",
       "       [1718],\n",
       "       [3166],\n",
       "       [5436],\n",
       "       [4450],\n",
       "       [4715],\n",
       "       [ 846],\n",
       "       [2799],\n",
       "       [2314],\n",
       "       [5447],\n",
       "       [1607],\n",
       "       [2465],\n",
       "       [5123],\n",
       "       [2072],\n",
       "       [1667],\n",
       "       [ 515],\n",
       "       [5843],\n",
       "       [2171],\n",
       "       [7487],\n",
       "       [7482],\n",
       "       [3686],\n",
       "       [5392],\n",
       "       [ 445],\n",
       "       [1209],\n",
       "       [6328],\n",
       "       [2837],\n",
       "       [2890],\n",
       "       [ 289],\n",
       "       [ 455],\n",
       "       [ 660],\n",
       "       [5528],\n",
       "       [2340],\n",
       "       [4998],\n",
       "       [3756],\n",
       "       [4714],\n",
       "       [5867],\n",
       "       [5977],\n",
       "       [1817],\n",
       "       [3661],\n",
       "       [1592],\n",
       "       [4046],\n",
       "       [1426],\n",
       "       [7046],\n",
       "       [3868],\n",
       "       [5292],\n",
       "       [4574],\n",
       "       [1638],\n",
       "       [5604],\n",
       "       [1233],\n",
       "       [1378],\n",
       "       [1909],\n",
       "       [5087],\n",
       "       [5307],\n",
       "       [5102],\n",
       "       [ 147],\n",
       "       [5909],\n",
       "       [ 360],\n",
       "       [5332],\n",
       "       [5867],\n",
       "       [2750],\n",
       "       [5986],\n",
       "       [4222],\n",
       "       [5777],\n",
       "       [4596],\n",
       "       [6289],\n",
       "       [7474],\n",
       "       [3371],\n",
       "       [6158],\n",
       "       [6782],\n",
       "       [7412],\n",
       "       [5124],\n",
       "       [5575],\n",
       "       [6467],\n",
       "       [3618],\n",
       "       [1473],\n",
       "       [6407],\n",
       "       [4874],\n",
       "       [6541],\n",
       "       [2428],\n",
       "       [4803],\n",
       "       [5289],\n",
       "       [6056],\n",
       "       [5790],\n",
       "       [6697],\n",
       "       [3891],\n",
       "       [7204],\n",
       "       [ 670],\n",
       "       [2022],\n",
       "       [2229],\n",
       "       [1814],\n",
       "       [5839],\n",
       "       [5560],\n",
       "       [7020],\n",
       "       [4386],\n",
       "       [2894],\n",
       "       [4162],\n",
       "       [7173],\n",
       "       [5290],\n",
       "       [6268],\n",
       "       [ 321],\n",
       "       [6981],\n",
       "       [4368],\n",
       "       [2203],\n",
       "       [4948],\n",
       "       [7260],\n",
       "       [3676],\n",
       "       [1168],\n",
       "       [3842],\n",
       "       [ 542],\n",
       "       [6013],\n",
       "       [1546],\n",
       "       [3280],\n",
       "       [ 849],\n",
       "       [2384],\n",
       "       [5607],\n",
       "       [5716],\n",
       "       [4797],\n",
       "       [5349],\n",
       "       [1776],\n",
       "       [ 790],\n",
       "       [4361],\n",
       "       [6298],\n",
       "       [1729],\n",
       "       [ 402],\n",
       "       [4585],\n",
       "       [6411],\n",
       "       [2853],\n",
       "       [1796],\n",
       "       [ 761],\n",
       "       [1183],\n",
       "       [2631],\n",
       "       [1789],\n",
       "       [ 104],\n",
       "       [3216],\n",
       "       [ 326],\n",
       "       [6422],\n",
       "       [7193],\n",
       "       [7121],\n",
       "       [  84],\n",
       "       [6483],\n",
       "       [3160],\n",
       "       [2370],\n",
       "       [3004],\n",
       "       [5079],\n",
       "       [4881],\n",
       "       [6787],\n",
       "       [ 203],\n",
       "       [6782],\n",
       "       [3758],\n",
       "       [2735],\n",
       "       [7190],\n",
       "       [1287],\n",
       "       [ 421],\n",
       "       [1665],\n",
       "       [3801],\n",
       "       [1528],\n",
       "       [2971],\n",
       "       [ 757],\n",
       "       [6968],\n",
       "       [6077],\n",
       "       [2602],\n",
       "       [7071],\n",
       "       [ 306],\n",
       "       [5099],\n",
       "       [5478],\n",
       "       [4770],\n",
       "       [2157],\n",
       "       [ 276]], dtype=int64)"
      ]
     },
     "execution_count": 118,
     "metadata": {},
     "output_type": "execute_result"
    }
   ],
   "source": [
    "ball_tree.query(test_data,k=1,return_distance=False)"
   ]
  },
  {
   "cell_type": "code",
   "execution_count": 119,
   "metadata": {
    "collapsed": false
   },
   "outputs": [
    {
     "data": {
      "text/plain": [
       "(1000, 1)"
      ]
     },
     "execution_count": 119,
     "metadata": {},
     "output_type": "execute_result"
    }
   ],
   "source": [
    "ball_tree.query(test_data,k=1,return_distance=False).shape"
   ]
  },
  {
   "cell_type": "code",
   "execution_count": 120,
   "metadata": {
    "collapsed": false
   },
   "outputs": [
    {
     "data": {
      "text/plain": [
       "(1000,)"
      ]
     },
     "execution_count": 120,
     "metadata": {},
     "output_type": "execute_result"
    }
   ],
   "source": [
    "np.squeeze(ball_tree.query(test_data,k=1,return_distance=False)).shape"
   ]
  },
  {
   "cell_type": "code",
   "execution_count": 121,
   "metadata": {
    "collapsed": false
   },
   "outputs": [
    {
     "name": "stdout",
     "output_type": "stream",
     "text": [
      "Time to classify test set: 7.248681545257568\n",
      "Does ball_tree_predictions equal full_test? True\n"
     ]
    }
   ],
   "source": [
    "# Get nearest neighbor predictions on testing data\n",
    "t_before = time.time()\n",
    "test_neighbors = np.squeeze(ball_tree.query(test_data,k=1,return_distance=False))\n",
    "ball_tree_predictions = train_labels[test_neighbors]\n",
    "t_after = time.time()\n",
    "print('Time to classify test set:',t_after-t_before)\n",
    "print(\"Does ball_tree_predictions equal full_test?\", \n",
    "      np.array_equal(ball_tree_predictions, full_test))"
   ]
  },
  {
   "cell_type": "markdown",
   "metadata": {},
   "source": [
    "## KD-Tree"
   ]
  },
  {
   "cell_type": "code",
   "execution_count": 122,
   "metadata": {
    "collapsed": true
   },
   "outputs": [],
   "source": [
    "from sklearn.neighbors import KDTree"
   ]
  },
  {
   "cell_type": "code",
   "execution_count": 124,
   "metadata": {
    "collapsed": false
   },
   "outputs": [
    {
     "name": "stdout",
     "output_type": "stream",
     "text": [
      "Time to build data structure (seconds):  0.7660520076751709\n",
      "Time to classify test set (seconds):  9.434754610061646\n",
      "KD tree produces same predictions as above?  True\n"
     ]
    }
   ],
   "source": [
    "# Build nearest neighbor structure on training data\n",
    "t_before = time.time()\n",
    "kd_tree = KDTree(train_data)\n",
    "t_after = time.time()\n",
    "\n",
    "## Compute training time\n",
    "t_training = t_after - t_before\n",
    "print(\"Time to build data structure (seconds): \", t_training)\n",
    "\n",
    "## Get nearest neighbor predictions on testing data\n",
    "t_before = time.time()\n",
    "test_neighbors = np.squeeze(kd_tree.query(test_data, k=1, return_distance=False))\n",
    "kd_tree_predictions = train_labels[test_neighbors]\n",
    "t_after = time.time()\n",
    "\n",
    "## Compute testing time\n",
    "t_testing = t_after - t_before\n",
    "print(\"Time to classify test set (seconds): \", t_testing)\n",
    "\n",
    "## Verify that the predictions are the same\n",
    "print(\"KD tree produces same predictions as above? \", \n",
    "      np.array_equal(full_test, kd_tree_predictions))"
   ]
  },
  {
   "cell_type": "code",
   "execution_count": null,
   "metadata": {
    "collapsed": true
   },
   "outputs": [],
   "source": []
  }
 ],
 "metadata": {
  "kernelspec": {
   "display_name": "Python 3",
   "language": "python",
   "name": "python3"
  },
  "language_info": {
   "codemirror_mode": {
    "name": "ipython",
    "version": 3
   },
   "file_extension": ".py",
   "mimetype": "text/x-python",
   "name": "python",
   "nbconvert_exporter": "python",
   "pygments_lexer": "ipython3",
   "version": "3.6.0"
  }
 },
 "nbformat": 4,
 "nbformat_minor": 2
}
