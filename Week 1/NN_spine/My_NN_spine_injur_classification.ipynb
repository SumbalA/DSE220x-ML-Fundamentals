{
 "cells": [
  {
   "cell_type": "code",
   "execution_count": 15,
   "metadata": {
    "collapsed": true
   },
   "outputs": [],
   "source": [
    "import numpy as np"
   ]
  },
  {
   "cell_type": "code",
   "execution_count": 17,
   "metadata": {
    "collapsed": false
   },
   "outputs": [
    {
     "data": {
      "text/plain": [
       "(310, 7)"
      ]
     },
     "execution_count": 17,
     "metadata": {},
     "output_type": "execute_result"
    }
   ],
   "source": [
    "labels = [b'NO',b'DH',b'SL']\n",
    "data = np.loadtxt('column_3C.dat',converters={6: lambda s: labels.index(s)})\n",
    "data.shape"
   ]
  },
  {
   "cell_type": "code",
   "execution_count": 18,
   "metadata": {
    "collapsed": false
   },
   "outputs": [
    {
     "data": {
      "text/plain": [
       "array([ 63.03,  22.55,  39.61,  40.48,  98.67,  -0.25,   1.  ])"
      ]
     },
     "execution_count": 18,
     "metadata": {},
     "output_type": "execute_result"
    }
   ],
   "source": [
    "data[0]"
   ]
  },
  {
   "cell_type": "code",
   "execution_count": 20,
   "metadata": {
    "collapsed": false
   },
   "outputs": [],
   "source": [
    "# Separate labels from features\n",
    "x = data[:,:6]\n",
    "y = data[:,6]"
   ]
  },
  {
   "cell_type": "code",
   "execution_count": 21,
   "metadata": {
    "collapsed": false
   },
   "outputs": [
    {
     "data": {
      "text/plain": [
       "array([ 63.03,  22.55,  39.61,  40.48,  98.67,  -0.25])"
      ]
     },
     "execution_count": 21,
     "metadata": {},
     "output_type": "execute_result"
    }
   ],
   "source": [
    "x[0]"
   ]
  },
  {
   "cell_type": "code",
   "execution_count": 23,
   "metadata": {
    "collapsed": false
   },
   "outputs": [
    {
     "data": {
      "text/plain": [
       "array([ 63.03,  22.55,  39.61,  40.48,  98.67,  -0.25])"
      ]
     },
     "execution_count": 23,
     "metadata": {},
     "output_type": "execute_result"
    }
   ],
   "source": [
    "# split on train and test\n",
    "tr_idx = list(range(0,20))+list(range(40,188))+list(range(230,310))\n",
    "ts_idx = list(range(20,40))+list(range(188,230))\n",
    "\n",
    "tr_x = x[tr_idx,:]\n",
    "ts_x = x[ts_idx,:]\n",
    "tr_y = y[tr_idx]\n",
    "ts_y = y[ts_idx]\n",
    "\n",
    "tr_x[0]"
   ]
  },
  {
   "cell_type": "markdown",
   "metadata": {},
   "source": [
    "## Nearest Neighbor Classification with L2 distance\n",
    "In this exercise we will build a nearest neighbor classifier based on L2 (*Euclidean*) distance.\n",
    "\n",
    "<font color=\"magenta\">**For you to do:**</font> Write a function, **NN_L2**, which takes as input the training data (`trainx` and `trainy`) and the test points (`testx`) and predicts labels for these test points using 1-NN classification. These labels should be returned in a `numpy` array with one entry per test point. For **NN_L2**, the L2 norm should be used as the distance metric."
   ]
  },
  {
   "cell_type": "code",
   "execution_count": 24,
   "metadata": {
    "collapsed": false
   },
   "outputs": [
    {
     "data": {
      "text/plain": [
       "1346.1031999999998"
      ]
     },
     "execution_count": 24,
     "metadata": {},
     "output_type": "execute_result"
    }
   ],
   "source": [
    "def get_dist(x,y):\n",
    "    dist = np.sum(np.square(x-y))\n",
    "    return dist\n",
    "get_dist(x[0],x[1])"
   ]
  },
  {
   "cell_type": "code",
   "execution_count": 55,
   "metadata": {
    "collapsed": true
   },
   "outputs": [],
   "source": [
    "def get_NN(x):\n",
    "    return np.argmin([get_dist(tr_x[i,],x) for i in range(len(tr_y))])"
   ]
  },
  {
   "cell_type": "code",
   "execution_count": 56,
   "metadata": {
    "collapsed": false
   },
   "outputs": [
    {
     "data": {
      "text/plain": [
       "170"
      ]
     },
     "execution_count": 56,
     "metadata": {},
     "output_type": "execute_result"
    }
   ],
   "source": [
    "get_NN(ts_x[0])"
   ]
  },
  {
   "cell_type": "code",
   "execution_count": 57,
   "metadata": {
    "collapsed": false
   },
   "outputs": [
    {
     "data": {
      "text/plain": [
       "array([  43.12,   13.82,   40.35,   29.3 ,  128.52,    0.97])"
      ]
     },
     "execution_count": 57,
     "metadata": {},
     "output_type": "execute_result"
    }
   ],
   "source": [
    "tr_x[170]"
   ]
  },
  {
   "cell_type": "code",
   "execution_count": 58,
   "metadata": {
    "collapsed": false
   },
   "outputs": [
    {
     "data": {
      "text/plain": [
       "array([  43.92,   14.18,   37.83,   29.74,  134.46,    6.45])"
      ]
     },
     "execution_count": 58,
     "metadata": {},
     "output_type": "execute_result"
    }
   ],
   "source": [
    "ts_x[0]"
   ]
  },
  {
   "cell_type": "code",
   "execution_count": 60,
   "metadata": {
    "collapsed": false
   },
   "outputs": [],
   "source": [
    "def get_NN_ind(x):\n",
    "    return  tr_y[get_NN(x)]"
   ]
  },
  {
   "cell_type": "code",
   "execution_count": 62,
   "metadata": {
    "collapsed": false
   },
   "outputs": [
    {
     "data": {
      "text/plain": [
       "2.0"
      ]
     },
     "execution_count": 62,
     "metadata": {},
     "output_type": "execute_result"
    }
   ],
   "source": [
    "get_NN_ind(ts_x)"
   ]
  },
  {
   "cell_type": "code",
   "execution_count": 63,
   "metadata": {
    "collapsed": true
   },
   "outputs": [],
   "source": [
    "def NN_L2(tr_x,tr_y,ts_x):\n",
    "    predictions = [get_NN_ind(ts_x[i,]) for i in range(len(ts_y))]\n",
    "    \n",
    "    return np.array(predictions)"
   ]
  },
  {
   "cell_type": "code",
   "execution_count": 66,
   "metadata": {
    "collapsed": false
   },
   "outputs": [],
   "source": [
    "testy_L2 = NN_L2(tr_x, tr_y, ts_x)\n",
    "\n",
    "assert( type( testy_L2).__name__ == 'ndarray' )\n",
    "assert( len(testy_L2) == 62 ) \n",
    "assert( np.all( testy_L2[50:60] == [ 0.,  0.,  0.,  0.,  2.,  0.,  2.,  0.,  0.,  0.] )  )\n",
    "assert( np.all( testy_L2[0:10] == [ 0.,  0.,  0.,  1.,  1.,  0.,  1.,  0.,  0.,  1.] ) )"
   ]
  },
  {
   "cell_type": "code",
   "execution_count": 64,
   "metadata": {
    "collapsed": false
   },
   "outputs": [
    {
     "name": "stdout",
     "output_type": "stream",
     "text": [
      "<class 'numpy.ndarray'>\n",
      "62\n",
      "[ 2.  2.  1.  0.  0.  0.  0.  0.  0.  0.]\n"
     ]
    }
   ],
   "source": [
    "# test function \n",
    "testy_L2 = NN_L2(tr_x, tr_y, ts_x)\n",
    "print( type( testy_L2) )\n",
    "print( len(testy_L2) )\n",
    "print( testy_L2[40:50] )"
   ]
  },
  {
   "cell_type": "markdown",
   "metadata": {},
   "source": [
    "# 3. Nearest neighbor classification with L1 distance\n",
    "\n",
    "We now compute nearest neighbors using the L1 distance (sometimes called *Manhattan Distance*).\n",
    "\n",
    "<font color=\"magenta\">**For you to do:**</font> Write a function, **NN_L1**, which again takes as input the arrays `trainx`, `trainy`, and `testx`, and predicts labels for the test points using 1-nearest neighbor classification. For **NN_L1**, the L1 distance metric should be used. As before, the predicted labels should be returned in a `numpy` array with one entry per test point.\n",
    "\n",
    "Notice that **NN_L1** and **NN_L2** may well produce different predictions on the test set."
   ]
  },
  {
   "cell_type": "code",
   "execution_count": 67,
   "metadata": {
    "collapsed": true
   },
   "outputs": [],
   "source": [
    "def l1_dist(x,y):\n",
    "    return np.sum(np.abs(x-y))"
   ]
  },
  {
   "cell_type": "code",
   "execution_count": 68,
   "metadata": {
    "collapsed": true
   },
   "outputs": [],
   "source": [
    "def get_idx(x):\n",
    "    return np.argmin([l1_dist(x,tr_x[i,]) for i in range(len(tr_y))])"
   ]
  },
  {
   "cell_type": "code",
   "execution_count": 70,
   "metadata": {
    "collapsed": false
   },
   "outputs": [],
   "source": [
    "def l1_Classifier(x):\n",
    "    index = get_idx(x)\n",
    "    return tr_y[index]"
   ]
  },
  {
   "cell_type": "code",
   "execution_count": 71,
   "metadata": {
    "collapsed": true
   },
   "outputs": [],
   "source": [
    "def NN_L1(tr_x,tr_y,ts_x):\n",
    "    prediction = [l1_Classifier(ts_x[i,]) for i in range(len(ts_y))]\n",
    "    return np.array(prediction)"
   ]
  },
  {
   "cell_type": "code",
   "execution_count": 73,
   "metadata": {
    "collapsed": false
   },
   "outputs": [],
   "source": [
    "testy_L1 = NN_L1(tr_x, tr_y, ts_x)\n",
    "testy_L2 = NN_L2(tr_x, tr_y, ts_x)\n",
    "\n",
    "assert( type( testy_L1).__name__ == 'ndarray' )\n",
    "assert( len(testy_L1) == 62 ) \n",
    "assert( not all(testy_L1 == testy_L2) )\n",
    "assert( all(testy_L1[50:60]== [ 0.,  2.,  1.,  0.,  2.,  0.,  0.,  0.,  0.,  0.]) )\n",
    "assert( all( testy_L1[0:10] == [ 0.,  0.,  0.,  0.,  1.,  0.,  1.,  0.,  0.,  1.]) )"
   ]
  },
  {
   "cell_type": "code",
   "execution_count": 76,
   "metadata": {
    "collapsed": false
   },
   "outputs": [
    {
     "name": "stdout",
     "output_type": "stream",
     "text": [
      "[ 63.03  22.55  39.61  40.48  98.67  -0.25]\n",
      "[  43.92   14.18   37.83   29.74  134.46    6.45]\n"
     ]
    }
   ],
   "source": [
    "print(tr_x[0],ts_x[0],sep='\\n')"
   ]
  },
  {
   "cell_type": "code",
   "execution_count": 77,
   "metadata": {
    "collapsed": false
   },
   "outputs": [
    {
     "data": {
      "text/plain": [
       "82.490000000000009"
      ]
     },
     "execution_count": 77,
     "metadata": {},
     "output_type": "execute_result"
    }
   ],
   "source": [
    "l1_dist(tr_x[0],ts_x[0])"
   ]
  },
  {
   "cell_type": "code",
   "execution_count": 78,
   "metadata": {
    "collapsed": false
   },
   "outputs": [
    {
     "data": {
      "text/plain": [
       "170"
      ]
     },
     "execution_count": 78,
     "metadata": {},
     "output_type": "execute_result"
    }
   ],
   "source": [
    "get_idx(ts_x[0])"
   ]
  },
  {
   "cell_type": "code",
   "execution_count": 79,
   "metadata": {
    "collapsed": false
   },
   "outputs": [
    {
     "data": {
      "text/plain": [
       "array([  43.12,   13.82,   40.35,   29.3 ,  128.52,    0.97])"
      ]
     },
     "execution_count": 79,
     "metadata": {},
     "output_type": "execute_result"
    }
   ],
   "source": [
    "tr_x[170]"
   ]
  },
  {
   "cell_type": "code",
   "execution_count": 80,
   "metadata": {
    "collapsed": false
   },
   "outputs": [
    {
     "data": {
      "text/plain": [
       "15.540000000000003"
      ]
     },
     "execution_count": 80,
     "metadata": {},
     "output_type": "execute_result"
    }
   ],
   "source": [
    "l1_dist(tr_x[170],ts_x[0])"
   ]
  },
  {
   "cell_type": "code",
   "execution_count": 84,
   "metadata": {
    "collapsed": false
   },
   "outputs": [
    {
     "data": {
      "text/plain": [
       "0.0"
      ]
     },
     "execution_count": 84,
     "metadata": {},
     "output_type": "execute_result"
    }
   ],
   "source": [
    "l1_Classifier(ts_x[0])"
   ]
  },
  {
   "cell_type": "code",
   "execution_count": 85,
   "metadata": {
    "collapsed": false
   },
   "outputs": [
    {
     "data": {
      "text/plain": [
       "array([ 1.,  1.,  1.,  1.,  1.,  1.,  1.,  1.,  1.,  1.,  1.,  1.,  1.,\n",
       "        1.,  1.,  1.,  1.,  1.,  1.,  1.,  1.,  1.,  1.,  1.,  1.,  1.,\n",
       "        1.,  1.,  1.,  1.,  1.,  1.,  1.,  1.,  1.,  1.,  1.,  1.,  1.,\n",
       "        1.,  2.,  2.,  2.,  2.,  2.,  2.,  2.,  2.,  2.,  2.,  2.,  2.,\n",
       "        2.,  2.,  2.,  2.,  2.,  2.,  2.,  2.,  2.,  2.,  2.,  2.,  2.,\n",
       "        2.,  2.,  2.,  2.,  2.,  2.,  2.,  2.,  2.,  2.,  2.,  2.,  2.,\n",
       "        2.,  2.,  2.,  2.,  2.,  2.,  2.,  2.,  2.,  2.,  2.,  2.,  2.,\n",
       "        2.,  2.,  2.,  2.,  2.,  2.,  2.,  2.,  2.,  2.,  2.,  2.,  2.,\n",
       "        2.,  2.,  2.,  2.,  2.,  2.,  2.,  2.,  2.,  2.,  2.,  2.,  2.,\n",
       "        2.,  2.,  2.,  2.,  2.,  2.,  2.,  2.,  2.,  2.,  2.,  2.,  2.,\n",
       "        2.,  2.,  2.,  2.,  2.,  2.,  2.,  2.,  2.,  2.,  2.,  2.,  2.,\n",
       "        2.,  2.,  2.,  2.,  2.,  2.,  2.,  2.,  2.,  2.,  2.,  2.,  2.,\n",
       "        2.,  2.,  2.,  2.,  2.,  2.,  2.,  2.,  2.,  2.,  2.,  2.,  0.,\n",
       "        0.,  0.,  0.,  0.,  0.,  0.,  0.,  0.,  0.,  0.,  0.,  0.,  0.,\n",
       "        0.,  0.,  0.,  0.,  0.,  0.,  0.,  0.,  0.,  0.,  0.,  0.,  0.,\n",
       "        0.,  0.,  0.,  0.,  0.,  0.,  0.,  0.,  0.,  0.,  0.,  0.,  0.,\n",
       "        0.,  0.,  0.,  0.,  0.,  0.,  0.,  0.,  0.,  0.,  0.,  0.,  0.,\n",
       "        0.,  0.,  0.,  0.,  0.,  0.,  0.,  0.,  0.,  0.,  0.,  0.,  0.,\n",
       "        0.,  0.,  0.,  0.,  0.,  0.,  0.,  0.,  0.,  0.,  0.,  0.,  0.,  0.])"
      ]
     },
     "execution_count": 85,
     "metadata": {},
     "output_type": "execute_result"
    }
   ],
   "source": [
    "tr_y"
   ]
  },
  {
   "cell_type": "code",
   "execution_count": 86,
   "metadata": {
    "collapsed": true
   },
   "outputs": [
    {
     "data": {
      "text/plain": [
       "[30860.669999999998,\n",
       " 34206.370000000003,\n",
       " 29845.169999999998,\n",
       " 29607.43,\n",
       " 30662.529999999999,\n",
       " 35549.790000000001,\n",
       " 26937.249999999996,\n",
       " 33965.790000000001,\n",
       " 28902.41,\n",
       " 39647.730000000003,\n",
       " 32395.510000000002,\n",
       " 43442.410000000003,\n",
       " 28297.189999999999,\n",
       " 28925.169999999998,\n",
       " 27128.549999999999,\n",
       " 29514.449999999997,\n",
       " 27356.330000000002,\n",
       " 37392.209999999992,\n",
       " 33592.989999999998,\n",
       " 32475.569999999996,\n",
       " 41626.210000000006,\n",
       " 30724.41,\n",
       " 28261.550000000003,\n",
       " 28165.509999999998,\n",
       " 28041.529999999999,\n",
       " 29612.610000000004,\n",
       " 29988.809999999998,\n",
       " 34427.809999999998,\n",
       " 33535.370000000003,\n",
       " 35862.209999999999,\n",
       " 28111.389999999999,\n",
       " 37030.350000000006,\n",
       " 33944.349999999999,\n",
       " 37070.849999999999,\n",
       " 35337.410000000003,\n",
       " 31286.630000000001,\n",
       " 31811.889999999999,\n",
       " 28715.169999999998,\n",
       " 33301.449999999997,\n",
       " 28440.09,\n",
       " 43096.790000000001,\n",
       " 55420.610000000008,\n",
       " 30809.350000000006,\n",
       " 31044.030000000002,\n",
       " 34373.770000000004,\n",
       " 35185.75,\n",
       " 30567.91,\n",
       " 41584.850000000006,\n",
       " 28323.650000000001,\n",
       " 33669.990000000005,\n",
       " 28607.690000000002,\n",
       " 52688.690000000002,\n",
       " 42858.690000000002,\n",
       " 27485.349999999999,\n",
       " 43061.730000000003,\n",
       " 70141.290000000008,\n",
       " 58960.270000000004,\n",
       " 34202.770000000004,\n",
       " 28444.489999999998,\n",
       " 27632.270000000004,\n",
       " 40276.370000000003,\n",
       " 37349.169999999998,\n",
       " 38056.25,\n",
       " 48752.449999999997,\n",
       " 37199.830000000002,\n",
       " 38598.729999999996,\n",
       " 26186.629999999997,\n",
       " 30541.790000000001,\n",
       " 26944.110000000001,\n",
       " 27874.889999999999,\n",
       " 32110.389999999999,\n",
       " 28901.950000000001,\n",
       " 46713.910000000003,\n",
       " 33665.389999999999,\n",
       " 45517.25,\n",
       " 66215.190000000002,\n",
       " 53787.809999999998,\n",
       " 35328.870000000003,\n",
       " 43643.410000000003,\n",
       " 26665.490000000002,\n",
       " 35040.650000000009,\n",
       " 33412.009999999995,\n",
       " 31356.049999999999,\n",
       " 28239.349999999999,\n",
       " 44877.610000000001,\n",
       " 27448.73,\n",
       " 35597.130000000005,\n",
       " 47402.470000000001,\n",
       " 32425.509999999998,\n",
       " 29974.489999999998,\n",
       " 29235.43,\n",
       " 46803.749999999993,\n",
       " 35456.349999999999,\n",
       " 34187.830000000002,\n",
       " 54739.25,\n",
       " 179569.71000000002,\n",
       " 34209.75,\n",
       " 39947.010000000009,\n",
       " 29578.550000000003,\n",
       " 26819.57,\n",
       " 28051.989999999998,\n",
       " 49618.610000000001,\n",
       " 43813.809999999998,\n",
       " 32810.129999999997,\n",
       " 33881.570000000007,\n",
       " 32936.330000000002,\n",
       " 30107.25,\n",
       " 37880.43,\n",
       " 45360.810000000005,\n",
       " 32194.629999999997,\n",
       " 31920.050000000003,\n",
       " 28140.730000000003,\n",
       " 31100.269999999997,\n",
       " 38177.690000000002,\n",
       " 37621.25,\n",
       " 45271.630000000005,\n",
       " 44589.489999999991,\n",
       " 40372.57,\n",
       " 38010.25,\n",
       " 43123.550000000003,\n",
       " 32734.350000000006,\n",
       " 64496.349999999991,\n",
       " 49928.990000000005,\n",
       " 44632.370000000003,\n",
       " 28332.75,\n",
       " 42861.809999999998,\n",
       " 44382.410000000003,\n",
       " 33698.270000000004,\n",
       " 31295.170000000002,\n",
       " 34841.949999999997,\n",
       " 37928.889999999999,\n",
       " 30228.189999999999,\n",
       " 27219.589999999997,\n",
       " 27258.210000000003,\n",
       " 32035.27,\n",
       " 39300.029999999999,\n",
       " 38218.610000000001,\n",
       " 32693.849999999999,\n",
       " 36088.730000000003,\n",
       " 34403.990000000005,\n",
       " 45071.950000000004,\n",
       " 35005.090000000004,\n",
       " 68611.709999999992,\n",
       " 66452.529999999999,\n",
       " 27250.110000000001,\n",
       " 44369.490000000005,\n",
       " 29629.449999999997,\n",
       " 40242.550000000003,\n",
       " 57987.25,\n",
       " 33969.410000000003,\n",
       " 27225.829999999998,\n",
       " 37489.849999999999,\n",
       " 30496.290000000001,\n",
       " 36012.349999999999,\n",
       " 29770.689999999999,\n",
       " 33272.449999999997,\n",
       " 32227.669999999998,\n",
       " 40046.770000000004,\n",
       " 35003.610000000001,\n",
       " 44266.709999999999,\n",
       " 44818.949999999997,\n",
       " 34139.450000000004,\n",
       " 42279.229999999996,\n",
       " 44437.050000000003,\n",
       " 40736.770000000004,\n",
       " 45770.949999999997,\n",
       " 43980.75,\n",
       " 30564.889999999999,\n",
       " 29477.07,\n",
       " 26646.790000000001,\n",
       " 30753.330000000002,\n",
       " 36519.529999999999,\n",
       " 33711.150000000001,\n",
       " 30576.870000000003,\n",
       " 27832.57,\n",
       " 28627.689999999999,\n",
       " 28521.610000000001,\n",
       " 30983.73,\n",
       " 32406.450000000004,\n",
       " 28118.150000000001,\n",
       " 36131.730000000003,\n",
       " 34573.610000000001,\n",
       " 27572.349999999999,\n",
       " 28436.610000000001,\n",
       " 28041.389999999999,\n",
       " 30206.989999999998,\n",
       " 29074.029999999999,\n",
       " 28849.75,\n",
       " 38044.110000000001,\n",
       " 34630.809999999998,\n",
       " 34462.889999999999,\n",
       " 27459.310000000001,\n",
       " 29689.189999999999,\n",
       " 27810.989999999998,\n",
       " 26532.57,\n",
       " 36084.710000000006,\n",
       " 31987.130000000001,\n",
       " 26657.369999999999,\n",
       " 27100.23,\n",
       " 31596.909999999996,\n",
       " 34426.790000000001,\n",
       " 38664.889999999999,\n",
       " 29517.129999999997,\n",
       " 30405.870000000003,\n",
       " 28548.650000000001,\n",
       " 27171.189999999999,\n",
       " 26171.029999999999,\n",
       " 36755.470000000001,\n",
       " 28928.269999999997,\n",
       " 29760.610000000001,\n",
       " 31374.849999999999,\n",
       " 34220.150000000001,\n",
       " 31774.670000000006,\n",
       " 29844.690000000002,\n",
       " 29961.590000000004,\n",
       " 29419.329999999998,\n",
       " 35793.330000000002,\n",
       " 30894.130000000005,\n",
       " 28072.110000000001,\n",
       " 26505.629999999997,\n",
       " 26774.250000000004,\n",
       " 27933.010000000002,\n",
       " 26260.190000000002,\n",
       " 26991.610000000001,\n",
       " 26036.809999999998,\n",
       " 39099.009999999995,\n",
       " 31781.989999999998,\n",
       " 33381.729999999996,\n",
       " 38514.410000000003,\n",
       " 27385.91,\n",
       " 36667.509999999995,\n",
       " 31044.910000000007,\n",
       " 31386.57,\n",
       " 29661.870000000003,\n",
       " 35610.229999999996,\n",
       " 30576.470000000001,\n",
       " 29952.450000000001,\n",
       " 32677.629999999997,\n",
       " 29477.789999999997,\n",
       " 37306.929999999993,\n",
       " 30371.190000000002,\n",
       " 37120.690000000002,\n",
       " 37208.149999999994,\n",
       " 29781.27,\n",
       " 30278.349999999999,\n",
       " 28267.130000000001,\n",
       " 28847.850000000002,\n",
       " 34883.610000000001]"
      ]
     },
     "execution_count": 86,
     "metadata": {},
     "output_type": "execute_result"
    }
   ],
   "source": [
    "[l1_dist(x,tr_x[i,]) for i in range(len(tr_y))]"
   ]
  },
  {
   "cell_type": "code",
   "execution_count": 88,
   "metadata": {
    "collapsed": false
   },
   "outputs": [
    {
     "data": {
      "text/plain": [
       "224"
      ]
     },
     "execution_count": 88,
     "metadata": {},
     "output_type": "execute_result"
    }
   ],
   "source": [
    "np.argmin([l1_dist(x,tr_x[i,]) for i in range(len(tr_y))])"
   ]
  },
  {
   "cell_type": "code",
   "execution_count": 89,
   "metadata": {
    "collapsed": false
   },
   "outputs": [
    {
     "data": {
      "text/plain": [
       "248"
      ]
     },
     "execution_count": 89,
     "metadata": {},
     "output_type": "execute_result"
    }
   ],
   "source": [
    "len([l1_dist(x,tr_x[i,]) for i in range(len(tr_y))])"
   ]
  },
  {
   "cell_type": "markdown",
   "metadata": {},
   "source": [
    "# 4. Test errors and the confusion matrix\n",
    "Let's see if the L1 and L2 distance functions yield different error rates for nearest neighbor classification of the test data."
   ]
  },
  {
   "cell_type": "code",
   "execution_count": 91,
   "metadata": {
    "collapsed": false
   },
   "outputs": [
    {
     "name": "stdout",
     "output_type": "stream",
     "text": [
      "Error rate of NN_L1:  0.22580645161290322\n",
      "Error rate of NN_L2:  0.20967741935483872\n"
     ]
    }
   ],
   "source": [
    "def error_rate(testy, testy_fit):\n",
    "    return float(sum(testy!=testy_fit))/len(testy) \n",
    "\n",
    "print(\"Error rate of NN_L1: \", error_rate(ts_y,testy_L1) )\n",
    "print(\"Error rate of NN_L2: \", error_rate(ts_y,testy_L2) )"
   ]
  },
  {
   "cell_type": "code",
   "execution_count": 94,
   "metadata": {
    "collapsed": false
   },
   "outputs": [
    {
     "name": "stdout",
     "output_type": "stream",
     "text": [
      "[ 1.  1.  1.  1.  1.  1.  1.  1.  1.  1.  1.  1.  1.  1.  1.  1.  1.  1.\n",
      "  1.  1.  2.  2.  2.  2.  2.  2.  2.  2.  2.  2.  2.  2.  2.  2.  2.  2.\n",
      "  2.  2.  2.  2.  2.  2.  0.  0.  0.  0.  0.  0.  0.  0.  0.  0.  0.  0.\n",
      "  0.  0.  0.  0.  0.  0.  0.  0.]\n"
     ]
    },
    {
     "data": {
      "text/plain": [
       "array([ 0.,  0.,  0.,  0.,  1.,  0.,  1.,  0.,  0.,  1.,  0.,  1.,  0.,\n",
       "        1.,  1.,  1.,  1.,  0.,  1.,  1.,  2.,  2.,  2.,  2.,  2.,  2.,\n",
       "        2.,  2.,  2.,  2.,  2.,  2.,  2.,  2.,  2.,  2.,  2.,  2.,  2.,\n",
       "        2.,  2.,  2.,  0.,  0.,  0.,  0.,  0.,  0.,  0.,  0.,  0.,  2.,\n",
       "        1.,  0.,  2.,  0.,  0.,  0.,  0.,  0.,  1.,  0.])"
      ]
     },
     "execution_count": 94,
     "metadata": {},
     "output_type": "execute_result"
    }
   ],
   "source": [
    "print(ts_y)\n",
    "testy_L1"
   ]
  },
  {
   "cell_type": "code",
   "execution_count": 96,
   "metadata": {
    "collapsed": false
   },
   "outputs": [
    {
     "name": "stdout",
     "output_type": "stream",
     "text": [
      "62 62\n"
     ]
    }
   ],
   "source": [
    "print(len(ts_y),len(testy_L1))"
   ]
  },
  {
   "cell_type": "code",
   "execution_count": null,
   "metadata": {
    "collapsed": true
   },
   "outputs": [],
   "source": []
  }
 ],
 "metadata": {
  "kernelspec": {
   "display_name": "Python 3",
   "language": "python",
   "name": "python3"
  },
  "language_info": {
   "codemirror_mode": {
    "name": "ipython",
    "version": 3
   },
   "file_extension": ".py",
   "mimetype": "text/x-python",
   "name": "python",
   "nbconvert_exporter": "python",
   "pygments_lexer": "ipython3",
   "version": "3.6.0"
  }
 },
 "nbformat": 4,
 "nbformat_minor": 2
}
